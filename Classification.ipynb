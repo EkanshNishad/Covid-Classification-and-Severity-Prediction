{
  "cells": [
    {
      "cell_type": "code",
      "execution_count": null,
      "metadata": {
        "colab": {
          "base_uri": "https://localhost:8080/"
        },
        "id": "oV_IAAolnH2t",
        "outputId": "303dbe8f-ea41-4199-d98f-7576b5153547"
      },
      "outputs": [
        {
          "output_type": "stream",
          "name": "stdout",
          "text": [
            "Drive already mounted at /content/drive; to attempt to forcibly remount, call drive.mount(\"/content/drive\", force_remount=True).\n"
          ]
        }
      ],
      "source": [
        "from google.colab import drive\n",
        "drive.mount('/content/drive')\n"
      ]
    },
    {
      "cell_type": "code",
      "execution_count": null,
      "metadata": {
        "id": "bmkL6fwyEQnO",
        "colab": {
          "base_uri": "https://localhost:8080/"
        },
        "outputId": "58368649-4219-43ee-9940-8ee4d701aa89"
      },
      "outputs": [
        {
          "output_type": "stream",
          "name": "stdout",
          "text": [
            "Collecting keras==2.1.2\n",
            "  Using cached Keras-2.1.2-py2.py3-none-any.whl (304 kB)\n",
            "Requirement already satisfied: numpy>=1.9.1 in /usr/local/lib/python3.7/dist-packages (from keras==2.1.2) (1.21.6)\n",
            "Requirement already satisfied: six>=1.9.0 in /usr/local/lib/python3.7/dist-packages (from keras==2.1.2) (1.15.0)\n",
            "Requirement already satisfied: pyyaml in /usr/local/lib/python3.7/dist-packages (from keras==2.1.2) (3.13)\n",
            "Requirement already satisfied: scipy>=0.14 in /usr/local/lib/python3.7/dist-packages (from keras==2.1.2) (1.4.1)\n",
            "Installing collected packages: keras\n",
            "  Attempting uninstall: keras\n",
            "    Found existing installation: keras 2.8.0\n",
            "    Uninstalling keras-2.8.0:\n",
            "      Successfully uninstalled keras-2.8.0\n",
            "\u001b[31mERROR: pip's dependency resolver does not currently take into account all the packages that are installed. This behaviour is the source of the following dependency conflicts.\n",
            "tensorflow 2.8.0 requires keras<2.9,>=2.8.0rc0, but you have keras 2.1.2 which is incompatible.\u001b[0m\n",
            "Successfully installed keras-2.1.2\n",
            "Collecting tensorflow==1.14.0\n",
            "  Using cached tensorflow-1.14.0-cp37-cp37m-manylinux1_x86_64.whl (109.3 MB)\n",
            "Requirement already satisfied: wheel>=0.26 in /usr/local/lib/python3.7/dist-packages (from tensorflow==1.14.0) (0.37.1)\n",
            "Requirement already satisfied: tensorflow-estimator<1.15.0rc0,>=1.14.0rc0 in /usr/local/lib/python3.7/dist-packages (from tensorflow==1.14.0) (1.14.0)\n",
            "Requirement already satisfied: protobuf>=3.6.1 in /usr/local/lib/python3.7/dist-packages (from tensorflow==1.14.0) (3.17.3)\n",
            "Requirement already satisfied: keras-preprocessing>=1.0.5 in /usr/local/lib/python3.7/dist-packages (from tensorflow==1.14.0) (1.1.2)\n",
            "Requirement already satisfied: grpcio>=1.8.6 in /usr/local/lib/python3.7/dist-packages (from tensorflow==1.14.0) (1.44.0)\n",
            "Requirement already satisfied: astor>=0.6.0 in /usr/local/lib/python3.7/dist-packages (from tensorflow==1.14.0) (0.8.1)\n",
            "Requirement already satisfied: numpy<2.0,>=1.14.5 in /usr/local/lib/python3.7/dist-packages (from tensorflow==1.14.0) (1.21.6)\n",
            "Requirement already satisfied: absl-py>=0.7.0 in /usr/local/lib/python3.7/dist-packages (from tensorflow==1.14.0) (1.0.0)\n",
            "Requirement already satisfied: gast>=0.2.0 in /usr/local/lib/python3.7/dist-packages (from tensorflow==1.14.0) (0.5.3)\n",
            "Requirement already satisfied: termcolor>=1.1.0 in /usr/local/lib/python3.7/dist-packages (from tensorflow==1.14.0) (1.1.0)\n",
            "Requirement already satisfied: keras-applications>=1.0.6 in /usr/local/lib/python3.7/dist-packages (from tensorflow==1.14.0) (1.0.8)\n",
            "Requirement already satisfied: wrapt>=1.11.1 in /usr/local/lib/python3.7/dist-packages (from tensorflow==1.14.0) (1.14.0)\n",
            "Requirement already satisfied: six>=1.10.0 in /usr/local/lib/python3.7/dist-packages (from tensorflow==1.14.0) (1.15.0)\n",
            "Requirement already satisfied: google-pasta>=0.1.6 in /usr/local/lib/python3.7/dist-packages (from tensorflow==1.14.0) (0.2.0)\n",
            "Collecting tensorboard<1.15.0,>=1.14.0\n",
            "  Using cached tensorboard-1.14.0-py3-none-any.whl (3.1 MB)\n",
            "Requirement already satisfied: h5py in /usr/local/lib/python3.7/dist-packages (from keras-applications>=1.0.6->tensorflow==1.14.0) (2.10.0)\n",
            "Requirement already satisfied: markdown>=2.6.8 in /usr/local/lib/python3.7/dist-packages (from tensorboard<1.15.0,>=1.14.0->tensorflow==1.14.0) (3.3.6)\n",
            "Requirement already satisfied: setuptools>=41.0.0 in /usr/local/lib/python3.7/dist-packages (from tensorboard<1.15.0,>=1.14.0->tensorflow==1.14.0) (57.4.0)\n",
            "Requirement already satisfied: werkzeug>=0.11.15 in /usr/local/lib/python3.7/dist-packages (from tensorboard<1.15.0,>=1.14.0->tensorflow==1.14.0) (1.0.1)\n",
            "Requirement already satisfied: importlib-metadata>=4.4 in /usr/local/lib/python3.7/dist-packages (from markdown>=2.6.8->tensorboard<1.15.0,>=1.14.0->tensorflow==1.14.0) (4.11.3)\n",
            "Requirement already satisfied: zipp>=0.5 in /usr/local/lib/python3.7/dist-packages (from importlib-metadata>=4.4->markdown>=2.6.8->tensorboard<1.15.0,>=1.14.0->tensorflow==1.14.0) (3.8.0)\n",
            "Requirement already satisfied: typing-extensions>=3.6.4 in /usr/local/lib/python3.7/dist-packages (from importlib-metadata>=4.4->markdown>=2.6.8->tensorboard<1.15.0,>=1.14.0->tensorflow==1.14.0) (4.2.0)\n",
            "Installing collected packages: tensorboard, tensorflow\n",
            "  Attempting uninstall: tensorboard\n",
            "    Found existing installation: tensorboard 2.8.0\n",
            "    Uninstalling tensorboard-2.8.0:\n",
            "      Successfully uninstalled tensorboard-2.8.0\n",
            "  Attempting uninstall: tensorflow\n",
            "    Found existing installation: tensorflow 2.8.0\n",
            "    Uninstalling tensorflow-2.8.0:\n",
            "      Successfully uninstalled tensorflow-2.8.0\n",
            "\u001b[31mERROR: pip's dependency resolver does not currently take into account all the packages that are installed. This behaviour is the source of the following dependency conflicts.\n",
            "kapre 0.3.7 requires tensorflow>=2.0.0, but you have tensorflow 1.14.0 which is incompatible.\u001b[0m\n",
            "Successfully installed tensorboard-1.14.0 tensorflow-1.14.0\n",
            "Requirement already satisfied: h5py==2.10.0 in /usr/local/lib/python3.7/dist-packages (2.10.0)\n",
            "Requirement already satisfied: six in /usr/local/lib/python3.7/dist-packages (from h5py==2.10.0) (1.15.0)\n",
            "Requirement already satisfied: numpy>=1.7 in /usr/local/lib/python3.7/dist-packages (from h5py==2.10.0) (1.21.6)\n"
          ]
        }
      ],
      "source": [
        "!pip install keras==2.1.2\n",
        "!pip install tensorflow==1.14.0\n",
        "!pip install h5py==2.10.0"
      ]
    },
    {
      "cell_type": "code",
      "execution_count": null,
      "metadata": {
        "id": "MjtQoxT7o5Es",
        "colab": {
          "base_uri": "https://localhost:8080/"
        },
        "outputId": "2c6b0ae4-7238-4315-8d1a-634221c86d95"
      },
      "outputs": [
        {
          "output_type": "stream",
          "name": "stderr",
          "text": [
            "/usr/local/lib/python3.7/dist-packages/tensorflow/python/framework/dtypes.py:516: FutureWarning: Passing (type, 1) or '1type' as a synonym of type is deprecated; in a future version of numpy, it will be understood as (type, (1,)) / '(1,)type'.\n",
            "  _np_qint8 = np.dtype([(\"qint8\", np.int8, 1)])\n",
            "/usr/local/lib/python3.7/dist-packages/tensorflow/python/framework/dtypes.py:517: FutureWarning: Passing (type, 1) or '1type' as a synonym of type is deprecated; in a future version of numpy, it will be understood as (type, (1,)) / '(1,)type'.\n",
            "  _np_quint8 = np.dtype([(\"quint8\", np.uint8, 1)])\n",
            "/usr/local/lib/python3.7/dist-packages/tensorflow/python/framework/dtypes.py:518: FutureWarning: Passing (type, 1) or '1type' as a synonym of type is deprecated; in a future version of numpy, it will be understood as (type, (1,)) / '(1,)type'.\n",
            "  _np_qint16 = np.dtype([(\"qint16\", np.int16, 1)])\n",
            "/usr/local/lib/python3.7/dist-packages/tensorflow/python/framework/dtypes.py:519: FutureWarning: Passing (type, 1) or '1type' as a synonym of type is deprecated; in a future version of numpy, it will be understood as (type, (1,)) / '(1,)type'.\n",
            "  _np_quint16 = np.dtype([(\"quint16\", np.uint16, 1)])\n",
            "/usr/local/lib/python3.7/dist-packages/tensorflow/python/framework/dtypes.py:520: FutureWarning: Passing (type, 1) or '1type' as a synonym of type is deprecated; in a future version of numpy, it will be understood as (type, (1,)) / '(1,)type'.\n",
            "  _np_qint32 = np.dtype([(\"qint32\", np.int32, 1)])\n",
            "/usr/local/lib/python3.7/dist-packages/tensorflow/python/framework/dtypes.py:525: FutureWarning: Passing (type, 1) or '1type' as a synonym of type is deprecated; in a future version of numpy, it will be understood as (type, (1,)) / '(1,)type'.\n",
            "  np_resource = np.dtype([(\"resource\", np.ubyte, 1)])\n",
            "/usr/local/lib/python3.7/dist-packages/tensorboard/compat/tensorflow_stub/dtypes.py:541: FutureWarning: Passing (type, 1) or '1type' as a synonym of type is deprecated; in a future version of numpy, it will be understood as (type, (1,)) / '(1,)type'.\n",
            "  _np_qint8 = np.dtype([(\"qint8\", np.int8, 1)])\n",
            "/usr/local/lib/python3.7/dist-packages/tensorboard/compat/tensorflow_stub/dtypes.py:542: FutureWarning: Passing (type, 1) or '1type' as a synonym of type is deprecated; in a future version of numpy, it will be understood as (type, (1,)) / '(1,)type'.\n",
            "  _np_quint8 = np.dtype([(\"quint8\", np.uint8, 1)])\n",
            "/usr/local/lib/python3.7/dist-packages/tensorboard/compat/tensorflow_stub/dtypes.py:543: FutureWarning: Passing (type, 1) or '1type' as a synonym of type is deprecated; in a future version of numpy, it will be understood as (type, (1,)) / '(1,)type'.\n",
            "  _np_qint16 = np.dtype([(\"qint16\", np.int16, 1)])\n",
            "/usr/local/lib/python3.7/dist-packages/tensorboard/compat/tensorflow_stub/dtypes.py:544: FutureWarning: Passing (type, 1) or '1type' as a synonym of type is deprecated; in a future version of numpy, it will be understood as (type, (1,)) / '(1,)type'.\n",
            "  _np_quint16 = np.dtype([(\"quint16\", np.uint16, 1)])\n",
            "/usr/local/lib/python3.7/dist-packages/tensorboard/compat/tensorflow_stub/dtypes.py:545: FutureWarning: Passing (type, 1) or '1type' as a synonym of type is deprecated; in a future version of numpy, it will be understood as (type, (1,)) / '(1,)type'.\n",
            "  _np_qint32 = np.dtype([(\"qint32\", np.int32, 1)])\n",
            "/usr/local/lib/python3.7/dist-packages/tensorboard/compat/tensorflow_stub/dtypes.py:550: FutureWarning: Passing (type, 1) or '1type' as a synonym of type is deprecated; in a future version of numpy, it will be understood as (type, (1,)) / '(1,)type'.\n",
            "  np_resource = np.dtype([(\"resource\", np.ubyte, 1)])\n",
            "Using TensorFlow backend.\n"
          ]
        }
      ],
      "source": [
        "\n",
        "\n",
        "import numpy as np\n",
        "import tensorflow as tf\n",
        "from __future__ import print_function\n",
        "from tensorflow.keras import backend as K\n",
        "from tensorflow.keras.layers import Layer\n",
        "from tensorflow.keras import activations\n",
        "from tensorflow.keras.models import Model\n",
        "from tensorflow.keras.layers import *\n",
        "import pandas as pd\n",
        "import keras\n",
        "import matplotlib.pyplot as plt\n",
        "from tensorflow.keras import optimizers\n",
        "from tensorflow.keras import layers, initializers"
      ]
    },
    {
      "cell_type": "code",
      "execution_count": null,
      "metadata": {
        "id": "2FkofHYIoNay"
      },
      "outputs": [],
      "source": [
        "import pickle as pkl"
      ]
    },
    {
      "cell_type": "code",
      "source": [
        "with open(\"/content/drive/MyDrive/dataset/train.pkl\", \"rb\") as f:\n",
        "    x_train, y_train = pkl.load(f)"
      ],
      "metadata": {
        "id": "jh_kHGAmOzH0"
      },
      "execution_count": null,
      "outputs": []
    },
    {
      "cell_type": "code",
      "execution_count": null,
      "metadata": {
        "id": "dRPuAFMVoZpC"
      },
      "outputs": [],
      "source": [
        "with open(\"/content/drive/MyDrive/dataset/test.pkl\", \"rb\") as f:\n",
        "    x_test, y_test = pkl.load(f)"
      ]
    },
    {
      "cell_type": "code",
      "execution_count": null,
      "metadata": {
        "id": "ap0kMvdqXRlS"
      },
      "outputs": [],
      "source": [
        "with open(\"/content/drive/MyDrive/dataset/valid.pkl\", \"rb\") as f:\n",
        "    x_valid, y_valid = pkl.load(f)"
      ]
    },
    {
      "cell_type": "code",
      "execution_count": null,
      "metadata": {
        "colab": {
          "base_uri": "https://localhost:8080/"
        },
        "id": "EZKJ2wpWojI3",
        "outputId": "426212d0-b542-4e51-e9a8-3621ca59a72b"
      },
      "outputs": [
        {
          "output_type": "stream",
          "name": "stdout",
          "text": [
            "(2100, 299, 299, 3)\n",
            "(2100, 3)\n",
            "(450, 299, 299, 3)\n",
            "(450, 3)\n",
            "(450, 299, 299, 3)\n",
            "(450, 3)\n"
          ]
        }
      ],
      "source": [
        "print(x_train.shape)\n",
        "print(y_train.shape)\n",
        "print(x_test.shape)\n",
        "print(y_test.shape)\n",
        "print(x_valid.shape)\n",
        "print(y_valid.shape)"
      ]
    },
    {
      "cell_type": "code",
      "execution_count": null,
      "metadata": {
        "id": "hFAwR-5NFhCI"
      },
      "outputs": [],
      "source": [
        "import tensorflow as tf\n"
      ]
    },
    {
      "cell_type": "code",
      "execution_count": null,
      "metadata": {
        "id": "wnEDmBxK9sYy"
      },
      "outputs": [],
      "source": [
        "from __future__ import print_function\n",
        "from tensorflow.keras import backend as K\n",
        "from tensorflow.keras.layers import Layer\n",
        "from tensorflow.keras import activations\n",
        "from tensorflow.keras.models import Model\n",
        "from tensorflow.keras.layers import *\n",
        "import numpy as np\n",
        "from tensorflow import keras\n",
        "from tensorflow.keras import optimizers, initializers\n",
        "\n",
        "\n"
      ]
    },
    {
      "cell_type": "code",
      "execution_count": null,
      "metadata": {
        "colab": {
          "base_uri": "https://localhost:8080/"
        },
        "id": "JRHERyRUD3rn",
        "outputId": "f9bcb441-1a54-4a9c-c49c-1bdc86c1524f"
      },
      "outputs": [
        {
          "output_type": "execute_result",
          "data": {
            "text/plain": [
              "<tf.Tensor 'Input:0' shape=(?, 299, 299, 3) dtype=float32>"
            ]
          },
          "metadata": {},
          "execution_count": 11
        }
      ],
      "source": [
        "input_image = Input(shape=(299, 299, 3), name='Input')\n",
        "input_image"
      ]
    },
    {
      "cell_type": "markdown",
      "metadata": {
        "id": "E75UCQSUAc_B"
      },
      "source": [
        "# Primary Caps"
      ]
    },
    {
      "cell_type": "code",
      "execution_count": null,
      "metadata": {
        "id": "zUZsr-kcAbmk"
      },
      "outputs": [],
      "source": [
        "def Primary_Caps(inputs, name=None):\n",
        "  temp = Conv2D(filters=64, padding='valid', activation='relu', kernel_size=3)(inputs)\n",
        "  temp = BatchNormalization(axis=-1, momentum=0.99, epsilon=0.001, center=True, scale=True, beta_initializer='zeros', gamma_initializer='ones',\n",
        "                            moving_mean_initializer='zeros', moving_variance_initializer='ones', beta_regularizer=None, gamma_regularizer=None, beta_constraint=None,\n",
        "                            gamma_constraint=None)(temp)\n",
        "  temp = Conv2D(filters=64, padding='valid', activation='relu',kernel_size=3)(temp)\n",
        "  temp = AveragePooling2D((2, 2))(temp)\n",
        "  temp = Conv2D(filters=128, padding='valid', activation='relu',kernel_size=3)(temp)\n",
        "  temp = Conv2D(filters=128, padding='valid', activation='relu',kernel_size=3)(temp)\n",
        "  \n",
        "  return temp"
      ]
    },
    {
      "cell_type": "code",
      "execution_count": null,
      "metadata": {
        "colab": {
          "base_uri": "https://localhost:8080/"
        },
        "id": "uSkJxDNeD1tC",
        "outputId": "e90f807f-8c1f-4778-9137-9af38cb86e3b"
      },
      "outputs": [
        {
          "output_type": "stream",
          "name": "stdout",
          "text": [
            "WARNING:tensorflow:From /usr/local/lib/python3.7/dist-packages/tensorflow/python/ops/init_ops.py:1251: calling VarianceScaling.__init__ (from tensorflow.python.ops.init_ops) with dtype is deprecated and will be removed in a future version.\n",
            "Instructions for updating:\n",
            "Call initializer instance with the dtype argument instead of passing it to the constructor\n"
          ]
        },
        {
          "output_type": "execute_result",
          "data": {
            "text/plain": [
              "<tf.Tensor 'conv2d_3/Relu:0' shape=(?, 143, 143, 128) dtype=float32>"
            ]
          },
          "metadata": {},
          "execution_count": 13
        }
      ],
      "source": [
        "primarycaps = Primary_Caps(input_image)\n",
        "primarycaps"
      ]
    },
    {
      "cell_type": "code",
      "execution_count": null,
      "metadata": {
        "colab": {
          "base_uri": "https://localhost:8080/"
        },
        "id": "5OYGTlLzTl3L",
        "outputId": "b143f1c3-7e21-4e03-e907-a19be814359c"
      },
      "outputs": [
        {
          "output_type": "execute_result",
          "data": {
            "text/plain": [
              "<tf.Tensor 'Primary_Caps_raw/Reshape:0' shape=(?, ?, 128) dtype=float32>"
            ]
          },
          "metadata": {},
          "execution_count": 14
        }
      ],
      "source": [
        "primarycaps = Reshape((-1,128), name='Primary_Caps_raw')(primarycaps)\n",
        "primarycaps"
      ]
    },
    {
      "cell_type": "code",
      "execution_count": null,
      "metadata": {
        "id": "sgipacf6Zxm2"
      },
      "outputs": [],
      "source": [
        "# Garbage Collector - use it like gc.collect()\n",
        "import gc\n",
        "\n",
        "# Custom Callback To Include in Callbacks List At Training Time\n",
        "class GarbageCollectorCallback(tf.keras.callbacks.Callback):\n",
        "    def on_epoch_end(self, epoch, logs=None):\n",
        "        gc.collect()"
      ]
    },
    {
      "cell_type": "markdown",
      "metadata": {
        "id": "WPXMJRr6GWfs"
      },
      "source": [
        "# Capsule Layer"
      ]
    },
    {
      "cell_type": "markdown",
      "metadata": {
        "id": "pq4zv1AFGcHv"
      },
      "source": [
        "## Squash function"
      ]
    },
    {
      "cell_type": "code",
      "execution_count": null,
      "metadata": {
        "id": "RiCnlpjeGjxI"
      },
      "outputs": [],
      "source": [
        "def squash(x, axis=-1, name=None):\n",
        "  with tf.name_scope(name,default_name=\"squash\"):\n",
        "    epsilon=1e-7\n",
        "    squared_norm = K.sum(K.square(x), axis, keepdims=True) + epsilon\n",
        "    scale = K.sqrt(squared_norm)/(1 + squared_norm)\n",
        "    return scale * x"
      ]
    },
    {
      "cell_type": "markdown",
      "metadata": {
        "id": "2T5qoXQ-HKMC"
      },
      "source": [
        "## Margin Loss"
      ]
    },
    {
      "cell_type": "code",
      "execution_count": null,
      "metadata": {
        "id": "bqKhOMCuHIHg"
      },
      "outputs": [],
      "source": [
        "def margin_loss(y_true, y_pred):  \n",
        "  lamb, margin = 0.5, 0.1\n",
        "  return K.sum((y_true*K.square(K.relu(1-margin-y_pred)) + lamb*(1-y_true)*K.square(K.relu(y_pred-margin))), axis=-1)"
      ]
    },
    {
      "cell_type": "markdown",
      "metadata": {
        "id": "pdM5SUTVYDdC"
      },
      "source": [
        "![CodeCogsEqn (1).gif](data:image/gif;base64,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)"
      ]
    },
    {
      "cell_type": "markdown",
      "metadata": {
        "id": "3Gdihe84TYbp"
      },
      "source": [
        "## Layer Implementation"
      ]
    },
    {
      "cell_type": "code",
      "execution_count": null,
      "metadata": {
        "id": "gFoGccJkAU3R"
      },
      "outputs": [],
      "source": [
        "def softmax(x, axis=-1):\n",
        "  temp = K.exp(x-K.max(x, axis=axis, keepdims=True))\n",
        "  return temp/K.sum(temp, axis=axis, keepdims=True)\n",
        "\n",
        "class Capsule(Layer):\n",
        "\n",
        "  def __init__(self, num_capsule, dim_capsule, routings=3, share_weights=True, activation='squash', **kwargs):\n",
        "    super(Capsule, self).__init__(**kwargs)\n",
        "    self.num_capsule = num_capsule\n",
        "    self.dim_capsule = dim_capsule\n",
        "    self.routings = routings\n",
        "    self.share_weights = share_weights\n",
        "    if activation == 'squash':\n",
        "        self.activation = squash\n",
        "    else:\n",
        "        self.activation = activations.get(activation)\n",
        "\n",
        "  def build(self, input_shape):\n",
        "    input_dim_capsule = int(input_shape[-1])\n",
        "    if self.share_weights:\n",
        "        self.kernel = self.add_weight(name='Weight_kernel', shape=(1, input_dim_capsule, self.num_capsule*self.dim_capsule), #[1 ,3, 32*8]\n",
        "                                      initializer=initializers.get('glorot_uniform'))\n",
        "    else:\n",
        "        input_num_capsule = int(input_shape[-2])\n",
        "        self.kernel = self.add_weight(name='Weight_kernel', shape=(input_num_capsule, input_dim_capsule, self.num_capsule*self.dim_capsule),\n",
        "                                      initializer=initializers.get('glorot_uniform'))\n",
        "\n",
        "  def call(self, inputs):\n",
        "    if self.share_weights:\n",
        "        input_hat = K.conv1d(inputs, self.kernel)\n",
        "    else:\n",
        "        input_hat = K.local_conv1d(inputs, self.kernel, [1], [1])\n",
        "\n",
        "    batch_size = K.shape(inputs)[0]\n",
        "    input_num_capsule = K.shape(inputs)[1]\n",
        "    input_hat = K.reshape(input_hat, (batch_size, input_num_capsule, self.num_capsule, self.dim_capsule))\n",
        "    input_hat = K.permute_dimensions(input_hat, (0, 2, 1, 3))\n",
        "\n",
        "    b = K.zeros_like(input_hat[:, :, :, 0])\n",
        "    # shape= [batchsize, nof]\n",
        "    for i in range(self.routings):\n",
        "        c = softmax(b, 1)\n",
        "        if K.backend() == 'theano':\n",
        "            o = K.sum(o, axis=1)\n",
        "        o = self.activation(K.batch_dot(c, input_hat, [2, 2]))\n",
        "        if i < self.routings - 1:\n",
        "            print(o)\n",
        "            print(input_hat)\n",
        "            b += K.batch_dot(o, input_hat, [2, 3])\n",
        "            if K.backend() == 'theano':\n",
        "                o = K.sum(o, axis=1)\n",
        "    return o\n",
        "\n",
        "  def compute_output_shape(self, input_shape):\n",
        "    return (None, self.num_capsule, self.dim_capsule)\n",
        "\n",
        "  def get_config(self):\n",
        "    config = {\n",
        "        'num_capsule': self.num_capsule,\n",
        "        'dim_capsule': self.dim_capsule,\n",
        "        'routings': self.routings\n",
        "    }\n",
        "    base_config = super(Capsule, self).get_config()\n",
        "    return dict(list(base_config.items()) + list(config.items()))"
      ]
    },
    {
      "cell_type": "code",
      "execution_count": null,
      "metadata": {
        "id": "hUkT-caKART7"
      },
      "outputs": [],
      "source": [
        "batch_size = 10\n",
        "num_classes = 3\n",
        "epochs = 30"
      ]
    },
    {
      "cell_type": "code",
      "execution_count": null,
      "metadata": {
        "colab": {
          "base_uri": "https://localhost:8080/"
        },
        "id": "-pdOGPvrVMdP",
        "outputId": "26a384ed-4697-4319-82ef-e0af0cc272ba"
      },
      "outputs": [
        {
          "output_type": "stream",
          "name": "stdout",
          "text": [
            "Tensor(\"Capsule/capsule/squash/mul:0\", shape=(?, 32, 8), dtype=float32)\n",
            "Tensor(\"Capsule/capsule/transpose:0\", shape=(?, 32, ?, 8), dtype=float32)\n",
            "Tensor(\"Capsule/capsule/squash_1/mul:0\", shape=(?, 32, 8), dtype=float32)\n",
            "Tensor(\"Capsule/capsule/transpose:0\", shape=(?, 32, ?, 8), dtype=float32)\n",
            "Tensor(\"Capsule/capsule_1/squash/mul:0\", shape=(?, 32, 8), dtype=float32)\n",
            "Tensor(\"Capsule/capsule_1/transpose:0\", shape=(?, 32, ?, 8), dtype=float32)\n",
            "Tensor(\"Capsule/capsule_1/squash_1/mul:0\", shape=(?, 32, 8), dtype=float32)\n",
            "Tensor(\"Capsule/capsule_1/transpose:0\", shape=(?, 32, ?, 8), dtype=float32)\n",
            "Tensor(\"Capsule/capsule_2/squash/mul:0\", shape=(?, 3, 16), dtype=float32)\n",
            "Tensor(\"Capsule/capsule_2/transpose:0\", shape=(?, 3, ?, 16), dtype=float32)\n",
            "Tensor(\"Capsule/capsule_2/squash_1/mul:0\", shape=(?, 3, 16), dtype=float32)\n",
            "Tensor(\"Capsule/capsule_2/transpose:0\", shape=(?, 3, ?, 16), dtype=float32)\n"
          ]
        },
        {
          "output_type": "execute_result",
          "data": {
            "text/plain": [
              "<tf.Tensor 'Capsule/capsule_2/squash_2/mul:0' shape=(?, 3, 16) dtype=float32>"
            ]
          },
          "metadata": {},
          "execution_count": 19
        }
      ],
      "source": [
        "with tf.name_scope(\"Capsule\"):\n",
        "  capsule = Capsule(num_capsule=32, dim_capsule=8, routings=3, share_weights=True)(primarycaps)  \n",
        "  capsule = Capsule(num_capsule=32, dim_capsule=8, routings=3, share_weights=True)(capsule)   \n",
        "  capsule = Capsule(num_capsule=num_classes, dim_capsule=16, routings=3, share_weights=True)(capsule)\n",
        "capsule"
      ]
    },
    {
      "cell_type": "code",
      "execution_count": null,
      "metadata": {
        "colab": {
          "base_uri": "https://localhost:8080/"
        },
        "id": "YfyjGj_-XTDL",
        "outputId": "0e710a7f-a12a-4197-d149-5901d0763700"
      },
      "outputs": [
        {
          "output_type": "execute_result",
          "data": {
            "text/plain": [
              "<tf.Tensor 'Prediction/Prediction/Sqrt:0' shape=(?, 3) dtype=float32>"
            ]
          },
          "metadata": {},
          "execution_count": 20
        }
      ],
      "source": [
        "with tf.name_scope(\"Prediction\"):\n",
        "  y_pred = Lambda(lambda z: K.sqrt(K.sum(K.square(z), 2)), name='Prediction')(capsule)\n",
        "y_pred"
      ]
    },
    {
      "cell_type": "code",
      "execution_count": null,
      "metadata": {
        "colab": {
          "base_uri": "https://localhost:8080/"
        },
        "id": "WCc8KKAo3b7o",
        "outputId": "f94c208f-f7a2-46d7-c686-27c06893f17e"
      },
      "outputs": [
        {
          "output_type": "stream",
          "name": "stdout",
          "text": [
            "Model: \"model\"\n",
            "_________________________________________________________________\n",
            "Layer (type)                 Output Shape              Param #   \n",
            "=================================================================\n",
            "Input (InputLayer)           [(None, 299, 299, 3)]     0         \n",
            "_________________________________________________________________\n",
            "conv2d (Conv2D)              (None, 297, 297, 64)      1792      \n",
            "_________________________________________________________________\n",
            "batch_normalization (BatchNo (None, 297, 297, 64)      256       \n",
            "_________________________________________________________________\n",
            "conv2d_1 (Conv2D)            (None, 295, 295, 64)      36928     \n",
            "_________________________________________________________________\n",
            "average_pooling2d (AveragePo (None, 147, 147, 64)      0         \n",
            "_________________________________________________________________\n",
            "conv2d_2 (Conv2D)            (None, 145, 145, 128)     73856     \n",
            "_________________________________________________________________\n",
            "conv2d_3 (Conv2D)            (None, 143, 143, 128)     147584    \n",
            "_________________________________________________________________\n",
            "Primary_Caps_raw (Reshape)   (None, None, 128)         0         \n",
            "_________________________________________________________________\n",
            "capsule (Capsule)            (None, 32, 8)             32768     \n",
            "_________________________________________________________________\n",
            "capsule_1 (Capsule)          (None, 32, 8)             2048      \n",
            "_________________________________________________________________\n",
            "capsule_2 (Capsule)          (None, 3, 16)             384       \n",
            "_________________________________________________________________\n",
            "Prediction (Lambda)          (None, 3)                 0         \n",
            "=================================================================\n",
            "Total params: 295,616\n",
            "Trainable params: 295,488\n",
            "Non-trainable params: 128\n",
            "_________________________________________________________________\n"
          ]
        }
      ],
      "source": [
        "model = Model(inputs=[input_image], outputs=[y_pred])\n",
        "model.compile(loss=margin_loss, optimizer=optimizers.Adam(lr=0.001) , metrics=['accuracy'])\n",
        "model.summary()"
      ]
    },
    {
      "cell_type": "code",
      "execution_count": null,
      "metadata": {
        "id": "_kX13buuLa4f"
      },
      "outputs": [],
      "source": [
        "class CustomSaver(tf.keras.callbacks.Callback):\n",
        "    def on_epoch_end(self, epoch, logs={}):\n",
        "      self.model.save(\"/content/drive/MyDrive/Model2/pretrain/architecture/model_caps\"+str(epoch)+\".hd5\")"
      ]
    },
    {
      "cell_type": "code",
      "execution_count": null,
      "metadata": {
        "id": "kBMx8yfta-AV"
      },
      "outputs": [],
      "source": [
        "# Garbage Collector - use it like gc.collect()\n",
        "import gc\n",
        "\n",
        "# Custom Callback To Include in Callbacks List At Training Time\n",
        "class GarbageCollectorCallback(tf.keras.callbacks.Callback):\n",
        "    def on_epoch_end(self, epoch, logs=None):\n",
        "        gc.collect()"
      ]
    },
    {
      "cell_type": "code",
      "execution_count": null,
      "metadata": {
        "id": "6wKh9gDoUU4h"
      },
      "outputs": [],
      "source": [
        "from collections import defaultdict\n",
        "\n",
        "def merge_dicts_with_only_lists_as_values(dicts):\n",
        "  dd = defaultdict(list)\n",
        "  for d in dicts:\n",
        "    for key, value in d.items():\n",
        "      # dict values are always lists for history dicts so extending is fine\n",
        "      dd[key].extend(value)\n",
        "  return dd"
      ]
    },
    {
      "cell_type": "code",
      "execution_count": null,
      "metadata": {
        "id": "osBceze8UCvU"
      },
      "outputs": [],
      "source": [
        "class EpochCounter(keras.callbacks.Callback):\n",
        "  def __init__(self, period, counter_path=\"/content/drive/MyDrive/Model2/pretrain/epoch.pkl\"):\n",
        "    self.period = period\n",
        "    self.counter_path = counter_path\n",
        "    self.clock = 0\n",
        "    super(EpochCounter, self).__init__()\n",
        "  def on_epoch_begin(self, epoch, logs=None):\n",
        "    # save epoch number to disk\n",
        "    self.clock += 1\n",
        "    if self.clock % self.period == 1 or self.period == 1:\n",
        "      pkl.dump(epoch, open(self.counter_path, \"wb\"))"
      ]
    },
    {
      "cell_type": "code",
      "execution_count": null,
      "metadata": {
        "id": "T-gJ2J4BTTaQ"
      },
      "outputs": [],
      "source": [
        "class HistoryLogger(keras.callbacks.Callback):\n",
        "  def __init__(self, period, recovered_history, history_path=\"/content/drive/MyDrive/Model2/pretrain/history.pkl\"):\n",
        "    self.period = period\n",
        "    self.recovered_history = recovered_history \n",
        "    self.history_path = history_path\n",
        "    self.clock = 0\n",
        "    super(HistoryLogger, self).__init__()\n",
        "  def on_epoch_begin(self, epoch, logs=None):\n",
        "    self.clock += 1\n",
        "    if self.clock % self.period == 1 or self.period == 1:\n",
        "      combined_history = merge_dicts_with_only_lists_as_values([self.recovered_history, self.model.history.history])\n",
        "      pkl.dump(combined_history, open(self.history_path, \"wb\"))"
      ]
    },
    {
      "cell_type": "code",
      "execution_count": null,
      "metadata": {
        "colab": {
          "base_uri": "https://localhost:8080/"
        },
        "id": "wESSC2mXwtV5",
        "outputId": "f362bdea-dc10-431a-9531-938964f554cf"
      },
      "outputs": [
        {
          "name": "stdout",
          "output_type": "stream",
          "text": [
            "Train on 2100 samples, validate on 450 samples\n",
            "Epoch 1/5\n",
            "2100/2100 [==============================] - 3063s 1s/sample - loss: 0.3634 - acc: 0.3210 - val_loss: 0.3210 - val_acc: 0.3333\n",
            "Epoch 2/5\n",
            "2100/2100 [==============================] - 3048s 1s/sample - loss: 0.3206 - acc: 0.3381 - val_loss: 0.3201 - val_acc: 0.3333\n",
            "Epoch 3/5\n",
            "2100/2100 [==============================] - 3032s 1s/sample - loss: 0.3204 - acc: 0.3505 - val_loss: 0.3231 - val_acc: 0.3244\n",
            "Epoch 4/5\n",
            "2100/2100 [==============================] - 3041s 1s/sample - loss: 0.3185 - acc: 0.3700 - val_loss: 0.3349 - val_acc: 0.3267\n",
            "Epoch 5/5\n",
            "2100/2100 [==============================] - 3029s 1s/sample - loss: 0.2958 - acc: 0.4595 - val_loss: 0.2541 - val_acc: 0.5689\n"
          ]
        },
        {
          "data": {
            "text/plain": [
              "<tensorflow.python.keras.callbacks.History at 0x7f6b0df5e790>"
            ]
          },
          "execution_count": 77,
          "metadata": {},
          "output_type": "execute_result"
        }
      ],
      "source": [
        "import os\n",
        "saver = CustomSaver()\n",
        "if os.path.exists('/content/drive/MyDrive/Model2/pretrain/epoch.pkl'):\n",
        "  with open('/content/drive/MyDrive/Model2/pretrain/epoch.pkl', 'rb') as f:\n",
        "    initepoch = pkl.load(f)\n",
        "else:\n",
        "  initepoch = 0\n",
        "\n",
        "if os.path.exists('/content/drive/MyDrive/Model2/pretrain/history.pkl'):\n",
        "  with open('/content/drive/MyDrive/Model2/pretrain/history.pkl', 'rb') as f:\n",
        "    his = pkl.load(f)\n",
        "else:\n",
        "  his = {}\n",
        "\n",
        "hislog = HistoryLogger(period=1, recovered_history=his)\n",
        "eplog = EpochCounter(period=1)\n",
        "garbage = GarbageCollectorCallback()\n",
        "history = model.fit(\n",
        "        [x_train], [y_train],\n",
        "        batch_size=batch_size,\n",
        "        epochs=initepoch+5,shuffle=True, \n",
        "        callbacks=[saver, garbage, eplog, hislog],\n",
        "        validation_data=(x_valid, y_valid),\n",
        "        initial_epoch=initepoch)\n",
        "history"
      ]
    },
    {
      "cell_type": "code",
      "execution_count": null,
      "metadata": {
        "colab": {
          "base_uri": "https://localhost:8080/"
        },
        "id": "wGJ-Nf-I8Tf4",
        "outputId": "92df9d9a-f146-4f7a-ba4a-e5d634fd581d"
      },
      "outputs": [
        {
          "output_type": "stream",
          "name": "stdout",
          "text": [
            "33\n",
            "WARNING:tensorflow:From /usr/local/lib/python3.7/dist-packages/tensorflow/python/ops/init_ops.py:97: calling GlorotUniform.__init__ (from tensorflow.python.ops.init_ops) with dtype is deprecated and will be removed in a future version.\n",
            "Instructions for updating:\n",
            "Call initializer instance with the dtype argument instead of passing it to the constructor\n",
            "WARNING:tensorflow:From /usr/local/lib/python3.7/dist-packages/tensorflow/python/ops/init_ops.py:97: calling Zeros.__init__ (from tensorflow.python.ops.init_ops) with dtype is deprecated and will be removed in a future version.\n",
            "Instructions for updating:\n",
            "Call initializer instance with the dtype argument instead of passing it to the constructor\n",
            "WARNING:tensorflow:From /usr/local/lib/python3.7/dist-packages/tensorflow/python/ops/init_ops.py:97: calling Ones.__init__ (from tensorflow.python.ops.init_ops) with dtype is deprecated and will be removed in a future version.\n",
            "Instructions for updating:\n",
            "Call initializer instance with the dtype argument instead of passing it to the constructor\n",
            "Tensor(\"capsule_6/squash/mul:0\", shape=(?, 32, 8), dtype=float32)\n",
            "Tensor(\"capsule_6/transpose:0\", shape=(?, 32, ?, 8), dtype=float32)\n",
            "Tensor(\"capsule_6/squash_1/mul:0\", shape=(?, 32, 8), dtype=float32)\n",
            "Tensor(\"capsule_6/transpose:0\", shape=(?, 32, ?, 8), dtype=float32)\n",
            "Tensor(\"capsule_7/squash/mul:0\", shape=(?, 32, 8), dtype=float32)\n",
            "Tensor(\"capsule_7/transpose:0\", shape=(?, 32, ?, 8), dtype=float32)\n",
            "Tensor(\"capsule_7/squash_1/mul:0\", shape=(?, 32, 8), dtype=float32)\n",
            "Tensor(\"capsule_7/transpose:0\", shape=(?, 32, ?, 8), dtype=float32)\n",
            "Tensor(\"capsule_8/squash/mul:0\", shape=(?, 3, 16), dtype=float32)\n",
            "Tensor(\"capsule_8/transpose:0\", shape=(?, 3, ?, 16), dtype=float32)\n",
            "Tensor(\"capsule_8/squash_1/mul:0\", shape=(?, 3, 16), dtype=float32)\n",
            "Tensor(\"capsule_8/transpose:0\", shape=(?, 3, ?, 16), dtype=float32)\n",
            "WARNING:tensorflow:From /usr/local/lib/python3.7/dist-packages/tensorflow/python/ops/math_grad.py:1250: add_dispatch_support.<locals>.wrapper (from tensorflow.python.ops.array_ops) is deprecated and will be removed in a future version.\n",
            "Instructions for updating:\n",
            "Use tf.where in 2.0, which has the same broadcast rule as np.where\n",
            "Train on 2100 samples, validate on 450 samples\n",
            "Epoch 34/39\n",
            "2100/2100 [==============================] - 3436s 2s/sample - loss: 0.0497 - acc: 0.9290 - val_loss: 0.0676 - val_acc: 0.9067\n",
            "Epoch 35/39\n",
            "2100/2100 [==============================] - 3441s 2s/sample - loss: 0.0578 - acc: 0.9176 - val_loss: 0.1102 - val_acc: 0.8356\n",
            "Epoch 36/39\n",
            "2100/2100 [==============================] - 3424s 2s/sample - loss: 0.0556 - acc: 0.9171 - val_loss: 0.0848 - val_acc: 0.8778\n",
            "Epoch 37/39\n",
            "2100/2100 [==============================] - 3434s 2s/sample - loss: 0.0535 - acc: 0.9205 - val_loss: 0.0872 - val_acc: 0.8844\n",
            "Epoch 38/39\n",
            "2100/2100 [==============================] - 3441s 2s/sample - loss: 0.0541 - acc: 0.9205 - val_loss: 0.0736 - val_acc: 0.9000\n",
            "Epoch 39/39\n",
            "2100/2100 [==============================] - 3426s 2s/sample - loss: 0.0552 - acc: 0.9200 - val_loss: 0.0896 - val_acc: 0.8667\n"
          ]
        },
        {
          "output_type": "execute_result",
          "data": {
            "text/plain": [
              "<tensorflow.python.keras.callbacks.History at 0x7f41fc9121d0>"
            ]
          },
          "metadata": {},
          "execution_count": 28
        }
      ],
      "source": [
        "import os\n",
        "if os.path.exists('/content/drive/MyDrive/Model2/pretrain/epoch.pkl'):\n",
        "  with open('/content/drive/MyDrive/Model2/pretrain/epoch.pkl', 'rb') as f:\n",
        "    initepoch = pkl.load(f)\n",
        "else:\n",
        "  initepoch = 0\n",
        "print(initepoch)\n",
        "model2 = tf.keras.models.load_model('/content/drive/MyDrive/Model2/pretrain/architecture/model_caps'+str(initepoch-1)+'.hd5', custom_objects={'Capsule':Capsule,'margin_loss':margin_loss})\n",
        "saver = CustomSaver()\n",
        "\n",
        "\n",
        "if os.path.exists('/content/drive/MyDrive/Model2/pretrain/history.pkl'):\n",
        "  with open('/content/drive/MyDrive/Model2/pretrain/history.pkl', 'rb') as f:\n",
        "    his = pkl.load(f)\n",
        "else:\n",
        "  his = {}\n",
        "\n",
        "hislog = HistoryLogger(period=1, recovered_history=his)\n",
        "eplog = EpochCounter(period=1)\n",
        "garbage = GarbageCollectorCallback()\n",
        "history = model2.fit(\n",
        "        x_train, y_train,\n",
        "        batch_size=batch_size,\n",
        "        epochs=initepoch+6,shuffle=True, \n",
        "        callbacks=[saver, garbage, eplog, hislog],\n",
        "        validation_data = (x_valid, y_valid),\n",
        "        initial_epoch=initepoch)\n",
        "history"
      ]
    },
    {
      "cell_type": "code",
      "execution_count": null,
      "metadata": {
        "colab": {
          "base_uri": "https://localhost:8080/"
        },
        "id": "QpINNVR_6M4l",
        "outputId": "5089cae8-d6d5-42a7-afd9-186a885dbc93"
      },
      "outputs": [
        {
          "output_type": "stream",
          "name": "stdout",
          "text": [
            "Tensor(\"capsule_6_1/squash/mul:0\", shape=(?, 32, 8), dtype=float32)\n",
            "Tensor(\"capsule_6_1/transpose:0\", shape=(?, 32, ?, 8), dtype=float32)\n",
            "Tensor(\"capsule_6_1/squash_1/mul:0\", shape=(?, 32, 8), dtype=float32)\n",
            "Tensor(\"capsule_6_1/transpose:0\", shape=(?, 32, ?, 8), dtype=float32)\n",
            "Tensor(\"capsule_7_1/squash/mul:0\", shape=(?, 32, 8), dtype=float32)\n",
            "Tensor(\"capsule_7_1/transpose:0\", shape=(?, 32, ?, 8), dtype=float32)\n",
            "Tensor(\"capsule_7_1/squash_1/mul:0\", shape=(?, 32, 8), dtype=float32)\n",
            "Tensor(\"capsule_7_1/transpose:0\", shape=(?, 32, ?, 8), dtype=float32)\n",
            "Tensor(\"capsule_8_1/squash/mul:0\", shape=(?, 3, 16), dtype=float32)\n",
            "Tensor(\"capsule_8_1/transpose:0\", shape=(?, 3, ?, 16), dtype=float32)\n",
            "Tensor(\"capsule_8_1/squash_1/mul:0\", shape=(?, 3, 16), dtype=float32)\n",
            "Tensor(\"capsule_8_1/transpose:0\", shape=(?, 3, ?, 16), dtype=float32)\n"
          ]
        }
      ],
      "source": [
        "from tensorflow.keras.models import load_model\n",
        "model3 = load_model('/content/drive/MyDrive/Model2/pretrain/architecture/model_caps33.hd5', custom_objects={'Capsule':Capsule,'margin_loss':margin_loss})\n",
        "actual = []\n",
        "predictions = []\n",
        "x = 0\n",
        "y = 0\n",
        "while x+1<x_test.shape[0]:\n",
        "  res = model3.predict([x_test[x:x+1]])\n",
        "  actual.append(np.argmax(y_test[x:x+1]))\n",
        "  predictions.append(np.argmax(res))\n",
        "  y+=1\n",
        "  x+=1"
      ]
    },
    {
      "cell_type": "code",
      "execution_count": null,
      "metadata": {
        "colab": {
          "base_uri": "https://localhost:8080/"
        },
        "id": "Tfa4opx_7s2_",
        "outputId": "07bef584-2cad-4da2-fa0a-28acc7f8db62"
      },
      "outputs": [
        {
          "output_type": "stream",
          "name": "stdout",
          "text": [
            "[1 1 0 2 1 2 2 1 0 1 0 2 1 1 0 2 2 0 0 1 0 0 0 0 0 1 0 2 1 0 1 2 0 2 0 0 1\n",
            " 0 2 1 2 2 2 2 0 1 2 1 2 1 0 1 1 0 0 2 1 2 1 1 2 2 1 1 1 0 2 2 2 0 1 0 2 1\n",
            " 2 2 2 1 0 0 2 1 1 2 2 0 2 0 0 1 0 0 2 0 1 0 0 1 2 2 1 1 0 1 0 1 0 1 2 0 1\n",
            " 1 2 1 0 1 0 0 2 0 0 0 0 1 2 2 1 0 0 1 2 2 1 0 2 2 2 1 1 0 1 2 1 0 1 1 2 1\n",
            " 1 0 2 2 0 0 2 1 2 2 0 2 2 1 0 1 1 1 2 0 2 2 1 1 0 2 0 1 0 2 2 1 1 0 0 1 2\n",
            " 1 2 1 1 2 2 2 0 0 1 2 2 0 0 0 2 0 0 2 2 1 0 0 2 1 1 0 1 0 1 0 0 1 0 0 1 1\n",
            " 0 2 0 0 2 1 1 2 0 1 0 0 1 0 0 0 2 1 2 2 0 2 2 1 1 2 2 1 0 1 2 2 0 2 0 0 0\n",
            " 0 2 0 0 2 0 0 2 2 1 2 2 0 2 2 0 1 1 2 1 1 1 0 1 0 1 0 0 0 1 0 0 2 0 0 0 0\n",
            " 2 0 1 2 2 2 0 0 1 0 0 2 0 0 0 0 1 1 2 0 2 1 1 0 1 0 0 0 2 2 1 1 1 0 1 1 0\n",
            " 2 0 2 1 0 0 0 0 1 0 2 0 1 0 1 0 2 1 0 0 2 0 1 1 1 1 1 1 0 2 1 1 0 1 1 1 1\n",
            " 1 1 0 1 2 1 1 1 0 0 1 1 0 2 0 0 0 1 1 2 1 2 2 1 2 1 1 1 2 0 2 1 0 2 2 0 1\n",
            " 1 2 2 0 0 0 2 2 0 1 1 0 0 2 1 1 0 2 0 0 0 2 0 2 2 2 0 0 0 1 0 1 2 2 1 1 2\n",
            " 0 2 2 1 2]\n",
            "[1 1 0 0 1 2 2 1 2 1 0 2 1 2 0 2 0 0 0 1 2 0 0 0 2 1 0 2 1 2 1 2 0 2 0 0 1\n",
            " 0 2 1 2 2 2 2 0 1 2 1 2 1 0 1 1 0 0 2 1 2 1 1 2 2 1 1 1 0 2 2 2 0 1 0 0 1\n",
            " 2 2 2 1 0 2 1 1 1 0 2 0 2 0 0 1 0 0 2 0 1 0 0 1 2 1 1 1 0 1 0 1 0 1 2 0 1\n",
            " 1 1 1 0 1 0 0 1 0 0 0 0 1 2 2 1 0 0 2 2 2 1 0 2 2 2 1 1 0 1 2 1 0 1 1 2 1\n",
            " 1 0 2 2 0 0 2 1 2 2 2 2 2 1 0 1 1 1 2 0 2 2 0 2 0 2 0 1 0 1 2 1 1 2 0 1 2\n",
            " 1 2 1 1 2 2 2 0 0 1 2 2 2 0 0 2 0 0 2 2 1 0 0 2 1 1 2 1 0 1 0 2 1 0 0 1 1\n",
            " 0 2 0 2 1 1 1 2 0 1 0 0 1 0 0 0 2 1 2 2 0 2 2 1 1 2 1 1 0 1 2 2 0 2 0 0 2\n",
            " 0 2 0 0 2 0 0 2 2 2 2 2 0 2 2 0 1 1 2 1 1 1 0 1 0 1 0 0 0 1 0 0 1 0 0 2 0\n",
            " 2 0 1 2 2 2 0 2 1 0 2 2 0 0 0 0 1 1 2 2 2 2 1 0 1 0 0 0 2 2 1 1 1 2 1 1 0\n",
            " 2 0 0 1 0 0 2 0 1 0 2 0 1 0 1 2 2 2 0 0 1 0 1 1 1 1 1 1 0 1 1 1 0 1 1 1 1\n",
            " 1 0 2 1 2 1 1 1 0 2 1 1 0 2 0 0 0 1 1 2 1 2 2 1 2 1 1 1 2 0 2 1 0 2 1 0 1\n",
            " 1 2 2 0 2 0 2 2 0 1 1 2 0 0 1 1 0 2 0 0 0 2 0 2 2 2 0 0 0 1 0 1 2 2 1 1 2\n",
            " 0 2 2 1 2]\n"
          ]
        }
      ],
      "source": [
        "actual = np.array(actual)\n",
        "predictions = np.array(predictions)\n",
        "print(actual)\n",
        "print(predictions)"
      ]
    },
    {
      "cell_type": "code",
      "source": [
        "covidimages = []\n",
        "for i in range(len(predictions)):\n",
        "  if predictions[i]==0:\n",
        "    covidimages.append(x_test[i])"
      ],
      "metadata": {
        "id": "iAqqwLQcax_t"
      },
      "execution_count": null,
      "outputs": []
    },
    {
      "cell_type": "code",
      "source": [
        "len(covidimages)"
      ],
      "metadata": {
        "colab": {
          "base_uri": "https://localhost:8080/"
        },
        "id": "Hnt-poy-cEl4",
        "outputId": "6a383448-a434-41f6-fd11-b8631dce971e"
      },
      "execution_count": null,
      "outputs": [
        {
          "output_type": "execute_result",
          "data": {
            "text/plain": [
              "150"
            ]
          },
          "metadata": {},
          "execution_count": 24
        }
      ]
    },
    {
      "cell_type": "code",
      "source": [
        "with open('covid.pkl', 'wb') as f:\n",
        "  pkl.dump(covidimages, f)"
      ],
      "metadata": {
        "id": "iBjEorZFfuVK"
      },
      "execution_count": null,
      "outputs": []
    },
    {
      "cell_type": "code",
      "source": [
        "indexes = []\n",
        "for i in range(len(predictions)):\n",
        "  if predictions[i]==0:\n",
        "    indexes.append(i)"
      ],
      "metadata": {
        "id": "B0SuxLr0ViGr"
      },
      "execution_count": null,
      "outputs": []
    },
    {
      "cell_type": "code",
      "execution_count": null,
      "metadata": {
        "colab": {
          "base_uri": "https://localhost:8080/"
        },
        "id": "aQL_a5q97ejA",
        "outputId": "1dd6be62-99d9-47c8-b075-b2e5917a564c"
      },
      "outputs": [
        {
          "output_type": "stream",
          "name": "stdout",
          "text": [
            "              precision    recall  f1-score   support\n",
            "\n",
            "     Covid19       0.95      0.86      0.90       165\n",
            "   Pneumonia       0.93      0.95      0.94       150\n",
            "      Normal       0.80      0.87      0.84       134\n",
            "\n",
            "    accuracy                           0.89       449\n",
            "   macro avg       0.89      0.89      0.89       449\n",
            "weighted avg       0.90      0.89      0.89       449\n",
            "\n"
          ]
        }
      ],
      "source": [
        "from sklearn.metrics import classification_report\n",
        "target_names = ['Covid19', 'Pneumonia', 'Normal']\n",
        "print(classification_report(actual, predictions, target_names=target_names))"
      ]
    },
    {
      "cell_type": "code",
      "execution_count": null,
      "metadata": {
        "colab": {
          "base_uri": "https://localhost:8080/"
        },
        "id": "P900jbQJ8Kwu",
        "outputId": "9420008d-dc89-4b9f-bbea-ff1a2a413854"
      },
      "outputs": [
        {
          "output_type": "execute_result",
          "data": {
            "text/plain": [
              "{'Covid19': {'f1-score': 0.9015873015873016,\n",
              "  'precision': 0.9466666666666667,\n",
              "  'recall': 0.8606060606060606,\n",
              "  'support': 165},\n",
              " 'Normal': {'f1-score': 0.8357142857142857,\n",
              "  'precision': 0.8013698630136986,\n",
              "  'recall': 0.8731343283582089,\n",
              "  'support': 134},\n",
              " 'Pneumonia': {'f1-score': 0.9372937293729374,\n",
              "  'precision': 0.9281045751633987,\n",
              "  'recall': 0.9466666666666667,\n",
              "  'support': 150},\n",
              " 'accuracy': 0.8930957683741648,\n",
              " 'macro avg': {'f1-score': 0.8915317722248416,\n",
              "  'precision': 0.8920470349479213,\n",
              "  'recall': 0.8934690185436454,\n",
              "  'support': 449},\n",
              " 'weighted avg': {'f1-score': 0.8938567448854335,\n",
              "  'precision': 0.8971030020453127,\n",
              "  'recall': 0.8930957683741648,\n",
              "  'support': 449}}"
            ]
          },
          "metadata": {},
          "execution_count": 32
        }
      ],
      "source": [
        "clf_report = classification_report(actual, predictions, target_names=target_names, output_dict=True)\n",
        "clf_report"
      ]
    },
    {
      "cell_type": "code",
      "execution_count": null,
      "metadata": {
        "colab": {
          "base_uri": "https://localhost:8080/",
          "height": 282
        },
        "id": "XCKqssgj8Urn",
        "outputId": "380addda-5aec-4969-e645-6e7b500a458d"
      },
      "outputs": [
        {
          "output_type": "execute_result",
          "data": {
            "text/plain": [
              "<matplotlib.axes._subplots.AxesSubplot at 0x7f41ee2d0ad0>"
            ]
          },
          "metadata": {},
          "execution_count": 33
        },
        {
          "output_type": "display_data",
          "data": {
            "text/plain": [
              "<Figure size 432x288 with 2 Axes>"
            ],
            "image/png": "[encoded data removed]"
          },
          "metadata": {
            "needs_background": "light"
          }
        }
      ],
      "source": [
        "import seaborn as sns\n",
        "import pandas as pd\n",
        "sns.heatmap(pd.DataFrame(clf_report).iloc[:-1, :].T, annot=True)"
      ]
    },
    {
      "cell_type": "code",
      "execution_count": null,
      "metadata": {
        "colab": {
          "base_uri": "https://localhost:8080/",
          "height": 297
        },
        "id": "c1qRNvsf8eMD",
        "outputId": "e52e0a8c-fb29-4538-c5fd-17946197c9ce"
      },
      "outputs": [
        {
          "output_type": "execute_result",
          "data": {
            "text/plain": [
              "<sklearn.metrics._plot.confusion_matrix.ConfusionMatrixDisplay at 0x7f41edf4eb10>"
            ]
          },
          "metadata": {},
          "execution_count": 34
        },
        {
          "output_type": "display_data",
          "data": {
            "text/plain": [
              "<Figure size 432x288 with 2 Axes>"
            ],
            "image/png": "[encoded data removed]"
          },
          "metadata": {
            "needs_background": "light"
          }
        }
      ],
      "source": [
        "from sklearn.metrics import ConfusionMatrixDisplay\n",
        "from sklearn.metrics import confusion_matrix\n",
        "cm = confusion_matrix(actual, predictions)\n",
        "cmd = ConfusionMatrixDisplay(cm, display_labels=target_names)\n",
        "cmd.plot()"
      ]
    },
    {
      "cell_type": "code",
      "execution_count": null,
      "metadata": {
        "colab": {
          "base_uri": "https://localhost:8080/"
        },
        "id": "SaoXPkf-beW-",
        "outputId": "819c8ccf-82b9-443b-c102-6356510de3bc"
      },
      "outputs": [
        {
          "output_type": "stream",
          "name": "stdout",
          "text": [
            "0.8915317722248416\n",
            "0.8920470349479213\n",
            "0.8934690185436454\n",
            "0.8930957683741648\n",
            "0.8915317722248416\n"
          ]
        }
      ],
      "source": [
        "from sklearn.metrics import accuracy_score, f1_score, precision_score, recall_score, f1_score\n",
        "print(f1_score(actual, predictions, average=\"macro\"))\n",
        "print(precision_score(actual, predictions, average=\"macro\"))\n",
        "print(recall_score(actual, predictions, average=\"macro\")) \n",
        "print(accuracy_score(actual, predictions)) \n",
        "print(f1_score(actual, predictions, average=\"macro\"))"
      ]
    },
    {
      "cell_type": "code",
      "execution_count": null,
      "metadata": {
        "colab": {
          "base_uri": "https://localhost:8080/"
        },
        "id": "JXH81xYJbymN",
        "outputId": "790599ea-94f7-43f8-a5cf-28fd9529dc63"
      },
      "outputs": [
        {
          "output_type": "stream",
          "name": "stdout",
          "text": [
            "[0.94666667 0.92810458 0.80136986]\n",
            "0.9476593987310461\n"
          ]
        }
      ],
      "source": [
        "FP = cm.sum(axis=0) - np.diag(cm)  \n",
        "FN = cm.sum(axis=1) - np.diag(cm)\n",
        "TP = np.diag(cm)\n",
        "TN = cm.sum() - (FP + FN + TP)\n",
        "print(TP/(TP+FP))\n",
        "print(np.mean(TN/(TN+FP)))"
      ]
    },
    {
      "cell_type": "code",
      "source": [
        "from tensorflow.keras.models import load_model\n",
        "model4 = load_model('/content/drive/MyDrive/Model2/pretrain/architecture/model_caps33.hd5', custom_objects={'Capsule':Capsule,'margin_loss':margin_loss})"
      ],
      "metadata": {
        "colab": {
          "base_uri": "https://localhost:8080/"
        },
        "id": "ag-8gHc5SmLO",
        "outputId": "d9d651d5-62c5-4ecd-893c-926475e44193"
      },
      "execution_count": null,
      "outputs": [
        {
          "output_type": "stream",
          "name": "stdout",
          "text": [
            "WARNING:tensorflow:From /usr/local/lib/python3.7/dist-packages/tensorflow/python/ops/init_ops.py:97: calling GlorotUniform.__init__ (from tensorflow.python.ops.init_ops) with dtype is deprecated and will be removed in a future version.\n",
            "Instructions for updating:\n",
            "Call initializer instance with the dtype argument instead of passing it to the constructor\n",
            "WARNING:tensorflow:From /usr/local/lib/python3.7/dist-packages/tensorflow/python/ops/init_ops.py:97: calling Zeros.__init__ (from tensorflow.python.ops.init_ops) with dtype is deprecated and will be removed in a future version.\n",
            "Instructions for updating:\n",
            "Call initializer instance with the dtype argument instead of passing it to the constructor\n",
            "WARNING:tensorflow:From /usr/local/lib/python3.7/dist-packages/tensorflow/python/ops/init_ops.py:97: calling Ones.__init__ (from tensorflow.python.ops.init_ops) with dtype is deprecated and will be removed in a future version.\n",
            "Instructions for updating:\n",
            "Call initializer instance with the dtype argument instead of passing it to the constructor\n",
            "Tensor(\"capsule_6/squash/mul:0\", shape=(?, 32, 8), dtype=float32)\n",
            "Tensor(\"capsule_6/transpose:0\", shape=(?, 32, ?, 8), dtype=float32)\n",
            "Tensor(\"capsule_6/squash_1/mul:0\", shape=(?, 32, 8), dtype=float32)\n",
            "Tensor(\"capsule_6/transpose:0\", shape=(?, 32, ?, 8), dtype=float32)\n",
            "Tensor(\"capsule_7/squash/mul:0\", shape=(?, 32, 8), dtype=float32)\n",
            "Tensor(\"capsule_7/transpose:0\", shape=(?, 32, ?, 8), dtype=float32)\n",
            "Tensor(\"capsule_7/squash_1/mul:0\", shape=(?, 32, 8), dtype=float32)\n",
            "Tensor(\"capsule_7/transpose:0\", shape=(?, 32, ?, 8), dtype=float32)\n",
            "Tensor(\"capsule_8/squash/mul:0\", shape=(?, 3, 16), dtype=float32)\n",
            "Tensor(\"capsule_8/transpose:0\", shape=(?, 3, ?, 16), dtype=float32)\n",
            "Tensor(\"capsule_8/squash_1/mul:0\", shape=(?, 3, 16), dtype=float32)\n",
            "Tensor(\"capsule_8/transpose:0\", shape=(?, 3, ?, 16), dtype=float32)\n",
            "WARNING:tensorflow:From /usr/local/lib/python3.7/dist-packages/tensorflow/python/ops/math_grad.py:1250: add_dispatch_support.<locals>.wrapper (from tensorflow.python.ops.array_ops) is deprecated and will be removed in a future version.\n",
            "Instructions for updating:\n",
            "Use tf.where in 2.0, which has the same broadcast rule as np.where\n"
          ]
        }
      ]
    },
    {
      "cell_type": "code",
      "execution_count": null,
      "metadata": {
        "colab": {
          "base_uri": "https://localhost:8080/"
        },
        "id": "KSst5F5LhGlg",
        "outputId": "c08b451e-89c3-4845-8f78-5daad27aca91"
      },
      "outputs": [
        {
          "output_type": "execute_result",
          "data": {
            "text/plain": [
              "array([1., 0., 0.], dtype=float32)"
            ]
          },
          "metadata": {},
          "execution_count": 19
        }
      ],
      "source": [
        "y_test[120]"
      ]
    },
    {
      "cell_type": "code",
      "execution_count": null,
      "metadata": {
        "colab": {
          "base_uri": "https://localhost:8080/"
        },
        "id": "TMqm8QPPsEfH",
        "outputId": "2243e66b-0d69-4ea4-9eae-e533e275298b"
      },
      "outputs": [
        {
          "output_type": "execute_result",
          "data": {
            "text/plain": [
              "array([[0.90289515, 0.03536674, 0.06929357]], dtype=float32)"
            ]
          },
          "metadata": {},
          "execution_count": 20
        }
      ],
      "source": [
        "#probability for being of each class\n",
        "model4.predict(x_test[120:121])"
      ]
    },
    {
      "cell_type": "code",
      "source": [
        "def iou(y_true, y_pred):\n",
        "    def f(y_true, y_pred):\n",
        "        intersection = (y_true * y_pred).sum()\n",
        "        union = y_true.sum() + y_pred.sum() - intersection\n",
        "        x = (intersection + 1e-15) / (union + 1e-15)\n",
        "        x = x.astype(np.float32)\n",
        "        return x\n",
        "    return tf.numpy_function(f, [y_true, y_pred], tf.float32)\n",
        "\n",
        "smooth = 1e-15\n",
        "def dice_coef(y_true, y_pred):\n",
        "    y_true = tf.keras.layers.Flatten()(y_true)\n",
        "    y_pred = tf.keras.layers.Flatten()(y_pred)\n",
        "    intersection = tf.reduce_sum(y_true * y_pred)\n",
        "    return (2. * intersection + smooth) / (tf.reduce_sum(y_true) + tf.reduce_sum(y_pred) + smooth)\n",
        "\n",
        "def dice_loss(y_true, y_pred):\n",
        "    return 1.0 - dice_coef(y_true, y_pred)"
      ],
      "metadata": {
        "id": "Q3x4iA16QcqC"
      },
      "execution_count": null,
      "outputs": []
    },
    {
      "cell_type": "code",
      "source": [
        "for i in range(x_test.shape[0]):\n",
        "  for j in range(x_test.shape[1]):\n",
        "    for k in range(x_test.shape[2]):\n",
        "      for l in range(3):\n",
        "        if masks[i][j][k][l]*255<10:\n",
        "          x_test[i][j][k][l] =0"
      ],
      "metadata": {
        "id": "OjYB4ulwP4bV"
      },
      "execution_count": null,
      "outputs": []
    },
    {
      "cell_type": "code",
      "source": [
        ""
      ],
      "metadata": {
        "id": "vq0lAWAWP925"
      },
      "execution_count": null,
      "outputs": []
    }
  ],
  "metadata": {
    "colab": {
      "collapsed_sections": [],
      "name": "Classification.ipynb",
      "provenance": []
    },
    "kernelspec": {
      "display_name": "Python 3",
      "name": "python3"
    },
    "language_info": {
      "name": "python"
    }
  },
  "nbformat": 4,
  "nbformat_minor": 0
}