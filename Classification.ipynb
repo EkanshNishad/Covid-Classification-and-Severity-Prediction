{
  "nbformat": 4,
  "nbformat_minor": 0,
  "metadata": {
    "colab": {
      "provenance": [],
      "collapsed_sections": []
    },
    "kernelspec": {
      "name": "python3",
      "display_name": "Python 3"
    },
    "language_info": {
      "name": "python"
    }
  },
  "cells": [
    {
      "cell_type": "code",
      "metadata": {
        "colab": {
          "base_uri": "https://localhost:8080/"
        },
        "id": "zsUn71OqxKZd",
        "outputId": "d021eda5-4e18-4a8e-bbd8-7ae90e2033bd"
      },
      "source": [
        "from google.colab import drive\n",
        "drive.mount('/content/drive')"
      ],
      "execution_count": null,
      "outputs": [
        {
          "output_type": "stream",
          "name": "stdout",
          "text": [
            "Drive already mounted at /content/drive; to attempt to forcibly remount, call drive.mount(\"/content/drive\", force_remount=True).\n"
          ]
        }
      ]
    },
    {
      "cell_type": "code",
      "metadata": {
        "id": "SbPcFDrrxkiE"
      },
      "source": [
        "import pickle"
      ],
      "execution_count": null,
      "outputs": []
    },
    {
      "cell_type": "code",
      "metadata": {
        "id": "r5ifPflgyDC6"
      },
      "source": [
        "with open(\"/content/drive/MyDrive/dataset/train.pkl\", \"rb\") as f:\n",
        "    x_train, y_train = pickle.load(f)"
      ],
      "execution_count": null,
      "outputs": []
    },
    {
      "cell_type": "code",
      "metadata": {
        "id": "ZDesa9qXyIFK"
      },
      "source": [
        "with open(\"/content/drive/MyDrive/dataset/test.pkl\", \"rb\") as f:\n",
        "    x_test, y_test = pickle.load(f)"
      ],
      "execution_count": null,
      "outputs": []
    },
    {
      "cell_type": "code",
      "metadata": {
        "colab": {
          "base_uri": "https://localhost:8080/"
        },
        "id": "bniHirMOybdO",
        "outputId": "51a52880-88ce-42be-eed7-6845a71bafef"
      },
      "source": [
        "print(x_train.shape)\n",
        "print(y_train.shape)\n",
        "print(x_test.shape)\n",
        "print(y_test.shape)"
      ],
      "execution_count": null,
      "outputs": [
        {
          "output_type": "stream",
          "name": "stdout",
          "text": [
            "(2100, 299, 299, 3)\n",
            "(2100, 3)\n",
            "(900, 299, 299, 3)\n",
            "(900, 3)\n"
          ]
        }
      ]
    },
    {
      "cell_type": "code",
      "metadata": {
        "colab": {
          "base_uri": "https://localhost:8080/"
        },
        "id": "sWL-eqeG6KIP",
        "outputId": "e55b4a17-fd01-4d6e-e7fe-dd681080e9d6"
      },
      "source": [
        "!pip install keras==2.1.2\n",
        "!pip install tensorflow==1.14.0\n",
        "!pip install h5py==2.10.0"
      ],
      "execution_count": null,
      "outputs": [
        {
          "output_type": "stream",
          "name": "stdout",
          "text": [
            "Collecting keras==2.1.2\n",
            "  Downloading Keras-2.1.2-py2.py3-none-any.whl (304 kB)\n",
            "\u001b[?25l\r\u001b[K     |█                               | 10 kB 25.1 MB/s eta 0:00:01\r\u001b[K     |██▏                             | 20 kB 29.2 MB/s eta 0:00:01\r\u001b[K     |███▎                            | 30 kB 24.6 MB/s eta 0:00:01\r\u001b[K     |████▎                           | 40 kB 18.6 MB/s eta 0:00:01\r\u001b[K     |█████▍                          | 51 kB 11.4 MB/s eta 0:00:01\r\u001b[K     |██████▌                         | 61 kB 9.2 MB/s eta 0:00:01\r\u001b[K     |███████▌                        | 71 kB 8.8 MB/s eta 0:00:01\r\u001b[K     |████████▋                       | 81 kB 9.8 MB/s eta 0:00:01\r\u001b[K     |█████████▊                      | 92 kB 10.1 MB/s eta 0:00:01\r\u001b[K     |██████████▊                     | 102 kB 10.1 MB/s eta 0:00:01\r\u001b[K     |███████████▉                    | 112 kB 10.1 MB/s eta 0:00:01\r\u001b[K     |█████████████                   | 122 kB 10.1 MB/s eta 0:00:01\r\u001b[K     |██████████████                  | 133 kB 10.1 MB/s eta 0:00:01\r\u001b[K     |███████████████                 | 143 kB 10.1 MB/s eta 0:00:01\r\u001b[K     |████████████████▏               | 153 kB 10.1 MB/s eta 0:00:01\r\u001b[K     |█████████████████▎              | 163 kB 10.1 MB/s eta 0:00:01\r\u001b[K     |██████████████████▎             | 174 kB 10.1 MB/s eta 0:00:01\r\u001b[K     |███████████████████▍            | 184 kB 10.1 MB/s eta 0:00:01\r\u001b[K     |████████████████████▌           | 194 kB 10.1 MB/s eta 0:00:01\r\u001b[K     |█████████████████████▌          | 204 kB 10.1 MB/s eta 0:00:01\r\u001b[K     |██████████████████████▋         | 215 kB 10.1 MB/s eta 0:00:01\r\u001b[K     |███████████████████████▊        | 225 kB 10.1 MB/s eta 0:00:01\r\u001b[K     |████████████████████████▊       | 235 kB 10.1 MB/s eta 0:00:01\r\u001b[K     |█████████████████████████▉      | 245 kB 10.1 MB/s eta 0:00:01\r\u001b[K     |███████████████████████████     | 256 kB 10.1 MB/s eta 0:00:01\r\u001b[K     |████████████████████████████    | 266 kB 10.1 MB/s eta 0:00:01\r\u001b[K     |█████████████████████████████   | 276 kB 10.1 MB/s eta 0:00:01\r\u001b[K     |██████████████████████████████▏ | 286 kB 10.1 MB/s eta 0:00:01\r\u001b[K     |███████████████████████████████▎| 296 kB 10.1 MB/s eta 0:00:01\r\u001b[K     |████████████████████████████████| 304 kB 10.1 MB/s \n",
            "\u001b[?25hRequirement already satisfied: scipy>=0.14 in /usr/local/lib/python3.7/dist-packages (from keras==2.1.2) (1.4.1)\n",
            "Requirement already satisfied: numpy>=1.9.1 in /usr/local/lib/python3.7/dist-packages (from keras==2.1.2) (1.19.5)\n",
            "Requirement already satisfied: six>=1.9.0 in /usr/local/lib/python3.7/dist-packages (from keras==2.1.2) (1.15.0)\n",
            "Requirement already satisfied: pyyaml in /usr/local/lib/python3.7/dist-packages (from keras==2.1.2) (3.13)\n",
            "Installing collected packages: keras\n",
            "  Attempting uninstall: keras\n",
            "    Found existing installation: keras 2.7.0\n",
            "    Uninstalling keras-2.7.0:\n",
            "      Successfully uninstalled keras-2.7.0\n",
            "\u001b[31mERROR: pip's dependency resolver does not currently take into account all the packages that are installed. This behaviour is the source of the following dependency conflicts.\n",
            "tensorflow 2.7.0 requires keras<2.8,>=2.7.0rc0, but you have keras 2.1.2 which is incompatible.\u001b[0m\n",
            "Successfully installed keras-2.1.2\n",
            "Collecting tensorflow==1.14.0\n",
            "  Downloading tensorflow-1.14.0-cp37-cp37m-manylinux1_x86_64.whl (109.3 MB)\n",
            "\u001b[K     |████████████████████████████████| 109.3 MB 8.8 kB/s \n",
            "\u001b[?25hRequirement already satisfied: keras-preprocessing>=1.0.5 in /usr/local/lib/python3.7/dist-packages (from tensorflow==1.14.0) (1.1.2)\n",
            "Requirement already satisfied: grpcio>=1.8.6 in /usr/local/lib/python3.7/dist-packages (from tensorflow==1.14.0) (1.41.1)\n",
            "Requirement already satisfied: astor>=0.6.0 in /usr/local/lib/python3.7/dist-packages (from tensorflow==1.14.0) (0.8.1)\n",
            "Collecting tensorflow-estimator<1.15.0rc0,>=1.14.0rc0\n",
            "  Downloading tensorflow_estimator-1.14.0-py2.py3-none-any.whl (488 kB)\n",
            "\u001b[K     |████████████████████████████████| 488 kB 75.7 MB/s \n",
            "\u001b[?25hRequirement already satisfied: termcolor>=1.1.0 in /usr/local/lib/python3.7/dist-packages (from tensorflow==1.14.0) (1.1.0)\n",
            "Requirement already satisfied: numpy<2.0,>=1.14.5 in /usr/local/lib/python3.7/dist-packages (from tensorflow==1.14.0) (1.19.5)\n",
            "Requirement already satisfied: wrapt>=1.11.1 in /usr/local/lib/python3.7/dist-packages (from tensorflow==1.14.0) (1.13.3)\n",
            "Requirement already satisfied: google-pasta>=0.1.6 in /usr/local/lib/python3.7/dist-packages (from tensorflow==1.14.0) (0.2.0)\n",
            "Requirement already satisfied: absl-py>=0.7.0 in /usr/local/lib/python3.7/dist-packages (from tensorflow==1.14.0) (0.12.0)\n",
            "Requirement already satisfied: protobuf>=3.6.1 in /usr/local/lib/python3.7/dist-packages (from tensorflow==1.14.0) (3.17.3)\n",
            "Collecting keras-applications>=1.0.6\n",
            "  Downloading Keras_Applications-1.0.8-py3-none-any.whl (50 kB)\n",
            "\u001b[K     |████████████████████████████████| 50 kB 8.1 MB/s \n",
            "\u001b[?25hCollecting tensorboard<1.15.0,>=1.14.0\n",
            "  Downloading tensorboard-1.14.0-py3-none-any.whl (3.1 MB)\n",
            "\u001b[K     |████████████████████████████████| 3.1 MB 72.0 MB/s \n",
            "\u001b[?25hRequirement already satisfied: six>=1.10.0 in /usr/local/lib/python3.7/dist-packages (from tensorflow==1.14.0) (1.15.0)\n",
            "Requirement already satisfied: wheel>=0.26 in /usr/local/lib/python3.7/dist-packages (from tensorflow==1.14.0) (0.37.0)\n",
            "Requirement already satisfied: gast>=0.2.0 in /usr/local/lib/python3.7/dist-packages (from tensorflow==1.14.0) (0.4.0)\n",
            "Requirement already satisfied: h5py in /usr/local/lib/python3.7/dist-packages (from keras-applications>=1.0.6->tensorflow==1.14.0) (3.1.0)\n",
            "Requirement already satisfied: markdown>=2.6.8 in /usr/local/lib/python3.7/dist-packages (from tensorboard<1.15.0,>=1.14.0->tensorflow==1.14.0) (3.3.4)\n",
            "Requirement already satisfied: setuptools>=41.0.0 in /usr/local/lib/python3.7/dist-packages (from tensorboard<1.15.0,>=1.14.0->tensorflow==1.14.0) (57.4.0)\n",
            "Requirement already satisfied: werkzeug>=0.11.15 in /usr/local/lib/python3.7/dist-packages (from tensorboard<1.15.0,>=1.14.0->tensorflow==1.14.0) (1.0.1)\n",
            "Requirement already satisfied: importlib-metadata in /usr/local/lib/python3.7/dist-packages (from markdown>=2.6.8->tensorboard<1.15.0,>=1.14.0->tensorflow==1.14.0) (4.8.2)\n",
            "Requirement already satisfied: cached-property in /usr/local/lib/python3.7/dist-packages (from h5py->keras-applications>=1.0.6->tensorflow==1.14.0) (1.5.2)\n",
            "Requirement already satisfied: typing-extensions>=3.6.4 in /usr/local/lib/python3.7/dist-packages (from importlib-metadata->markdown>=2.6.8->tensorboard<1.15.0,>=1.14.0->tensorflow==1.14.0) (3.10.0.2)\n",
            "Requirement already satisfied: zipp>=0.5 in /usr/local/lib/python3.7/dist-packages (from importlib-metadata->markdown>=2.6.8->tensorboard<1.15.0,>=1.14.0->tensorflow==1.14.0) (3.6.0)\n",
            "Installing collected packages: tensorflow-estimator, tensorboard, keras-applications, tensorflow\n",
            "  Attempting uninstall: tensorflow-estimator\n",
            "    Found existing installation: tensorflow-estimator 2.7.0\n",
            "    Uninstalling tensorflow-estimator-2.7.0:\n",
            "      Successfully uninstalled tensorflow-estimator-2.7.0\n",
            "  Attempting uninstall: tensorboard\n",
            "    Found existing installation: tensorboard 2.7.0\n",
            "    Uninstalling tensorboard-2.7.0:\n",
            "      Successfully uninstalled tensorboard-2.7.0\n",
            "  Attempting uninstall: tensorflow\n",
            "    Found existing installation: tensorflow 2.7.0\n",
            "    Uninstalling tensorflow-2.7.0:\n",
            "      Successfully uninstalled tensorflow-2.7.0\n",
            "\u001b[31mERROR: pip's dependency resolver does not currently take into account all the packages that are installed. This behaviour is the source of the following dependency conflicts.\n",
            "kapre 0.3.5 requires tensorflow>=2.0.0, but you have tensorflow 1.14.0 which is incompatible.\u001b[0m\n",
            "Successfully installed keras-applications-1.0.8 tensorboard-1.14.0 tensorflow-1.14.0 tensorflow-estimator-1.14.0\n",
            "Found existing installation: h5py 3.1.0\n",
            "Uninstalling h5py-3.1.0:\n",
            "  Would remove:\n",
            "    /usr/local/lib/python3.7/dist-packages/h5py-3.1.0.dist-info/*\n",
            "    /usr/local/lib/python3.7/dist-packages/h5py.libs/libaec-9c9e97eb.so.0.0.10\n",
            "    /usr/local/lib/python3.7/dist-packages/h5py.libs/libhdf5-00e8fae8.so.200.0.0\n",
            "    /usr/local/lib/python3.7/dist-packages/h5py.libs/libhdf5_hl-383c339f.so.200.0.0\n",
            "    /usr/local/lib/python3.7/dist-packages/h5py.libs/libsz-e7aa62f5.so.2.0.1\n",
            "    /usr/local/lib/python3.7/dist-packages/h5py.libs/libz-eb09ad1d.so.1.2.3\n",
            "    /usr/local/lib/python3.7/dist-packages/h5py/*\n",
            "Proceed (y/n)? y\n",
            "  Successfully uninstalled h5py-3.1.0\n",
            "Collecting h5py==2.10.0\n",
            "  Downloading h5py-2.10.0-cp37-cp37m-manylinux1_x86_64.whl (2.9 MB)\n",
            "\u001b[K     |████████████████████████████████| 2.9 MB 7.9 MB/s \n",
            "\u001b[?25hRequirement already satisfied: six in /usr/local/lib/python3.7/dist-packages (from h5py==2.10.0) (1.15.0)\n",
            "Requirement already satisfied: numpy>=1.7 in /usr/local/lib/python3.7/dist-packages (from h5py==2.10.0) (1.19.5)\n",
            "Installing collected packages: h5py\n",
            "Successfully installed h5py-2.10.0\n"
          ]
        }
      ]
    },
    {
      "cell_type": "code",
      "metadata": {
        "colab": {
          "base_uri": "https://localhost:8080/"
        },
        "id": "t0R0MXBX4R_G",
        "outputId": "e6259d59-5ad3-4532-c9fe-78462a26d118"
      },
      "source": [
        "import tensorflow as tf\n"
      ],
      "execution_count": null,
      "outputs": [
        {
          "output_type": "stream",
          "name": "stderr",
          "text": [
            "/usr/local/lib/python3.7/dist-packages/tensorflow/python/framework/dtypes.py:516: FutureWarning: Passing (type, 1) or '1type' as a synonym of type is deprecated; in a future version of numpy, it will be understood as (type, (1,)) / '(1,)type'.\n",
            "  _np_qint8 = np.dtype([(\"qint8\", np.int8, 1)])\n",
            "/usr/local/lib/python3.7/dist-packages/tensorflow/python/framework/dtypes.py:517: FutureWarning: Passing (type, 1) or '1type' as a synonym of type is deprecated; in a future version of numpy, it will be understood as (type, (1,)) / '(1,)type'.\n",
            "  _np_quint8 = np.dtype([(\"quint8\", np.uint8, 1)])\n",
            "/usr/local/lib/python3.7/dist-packages/tensorflow/python/framework/dtypes.py:518: FutureWarning: Passing (type, 1) or '1type' as a synonym of type is deprecated; in a future version of numpy, it will be understood as (type, (1,)) / '(1,)type'.\n",
            "  _np_qint16 = np.dtype([(\"qint16\", np.int16, 1)])\n",
            "/usr/local/lib/python3.7/dist-packages/tensorflow/python/framework/dtypes.py:519: FutureWarning: Passing (type, 1) or '1type' as a synonym of type is deprecated; in a future version of numpy, it will be understood as (type, (1,)) / '(1,)type'.\n",
            "  _np_quint16 = np.dtype([(\"quint16\", np.uint16, 1)])\n",
            "/usr/local/lib/python3.7/dist-packages/tensorflow/python/framework/dtypes.py:520: FutureWarning: Passing (type, 1) or '1type' as a synonym of type is deprecated; in a future version of numpy, it will be understood as (type, (1,)) / '(1,)type'.\n",
            "  _np_qint32 = np.dtype([(\"qint32\", np.int32, 1)])\n",
            "/usr/local/lib/python3.7/dist-packages/tensorflow/python/framework/dtypes.py:525: FutureWarning: Passing (type, 1) or '1type' as a synonym of type is deprecated; in a future version of numpy, it will be understood as (type, (1,)) / '(1,)type'.\n",
            "  np_resource = np.dtype([(\"resource\", np.ubyte, 1)])\n",
            "/usr/local/lib/python3.7/dist-packages/tensorboard/compat/tensorflow_stub/dtypes.py:541: FutureWarning: Passing (type, 1) or '1type' as a synonym of type is deprecated; in a future version of numpy, it will be understood as (type, (1,)) / '(1,)type'.\n",
            "  _np_qint8 = np.dtype([(\"qint8\", np.int8, 1)])\n",
            "/usr/local/lib/python3.7/dist-packages/tensorboard/compat/tensorflow_stub/dtypes.py:542: FutureWarning: Passing (type, 1) or '1type' as a synonym of type is deprecated; in a future version of numpy, it will be understood as (type, (1,)) / '(1,)type'.\n",
            "  _np_quint8 = np.dtype([(\"quint8\", np.uint8, 1)])\n",
            "/usr/local/lib/python3.7/dist-packages/tensorboard/compat/tensorflow_stub/dtypes.py:543: FutureWarning: Passing (type, 1) or '1type' as a synonym of type is deprecated; in a future version of numpy, it will be understood as (type, (1,)) / '(1,)type'.\n",
            "  _np_qint16 = np.dtype([(\"qint16\", np.int16, 1)])\n",
            "/usr/local/lib/python3.7/dist-packages/tensorboard/compat/tensorflow_stub/dtypes.py:544: FutureWarning: Passing (type, 1) or '1type' as a synonym of type is deprecated; in a future version of numpy, it will be understood as (type, (1,)) / '(1,)type'.\n",
            "  _np_quint16 = np.dtype([(\"quint16\", np.uint16, 1)])\n",
            "/usr/local/lib/python3.7/dist-packages/tensorboard/compat/tensorflow_stub/dtypes.py:545: FutureWarning: Passing (type, 1) or '1type' as a synonym of type is deprecated; in a future version of numpy, it will be understood as (type, (1,)) / '(1,)type'.\n",
            "  _np_qint32 = np.dtype([(\"qint32\", np.int32, 1)])\n",
            "/usr/local/lib/python3.7/dist-packages/tensorboard/compat/tensorflow_stub/dtypes.py:550: FutureWarning: Passing (type, 1) or '1type' as a synonym of type is deprecated; in a future version of numpy, it will be understood as (type, (1,)) / '(1,)type'.\n",
            "  np_resource = np.dtype([(\"resource\", np.ubyte, 1)])\n"
          ]
        }
      ]
    },
    {
      "cell_type": "code",
      "metadata": {
        "id": "-0kIxNv-5Ori"
      },
      "source": [
        "from __future__ import print_function\n",
        "from tensorflow.keras import backend as K\n",
        "from tensorflow.keras.layers import Layer\n",
        "from tensorflow.keras import activations\n",
        "from tensorflow.keras.models import Model\n",
        "from tensorflow.keras.layers import *\n",
        "import numpy as np\n",
        "from tensorflow import keras\n",
        "from tensorflow.keras import optimizers\n",
        "from tensorflow.keras import layers, initializers\n",
        "\n",
        "K.set_image_data_format('channels_last')\n",
        "\n",
        "def squash(x, axis=-1):\n",
        "    s_squared_norm = K.sum(K.square(x), axis, keepdims=True) + K.epsilon()\n",
        "    scale = K.sqrt(s_squared_norm) / (1 + s_squared_norm)\n",
        "    return scale * x\n",
        "\n",
        "\n",
        "def softmax(x, axis=-1):\n",
        "    \n",
        "    ex = K.exp(x - K.max(x, axis=axis, keepdims=True))\n",
        "    return ex / K.sum(ex, axis=axis, keepdims=True)\n",
        "\n",
        "\n",
        "def margin_loss(y_true, y_pred):\n",
        "    \n",
        "    lamb, margin = 0.5, 0.1\n",
        "    return K.sum((y_true * K.square(K.relu(1 - margin - y_pred)) + lamb * (\n",
        "        1 - y_true) * K.square(K.relu(y_pred - margin))), axis=-1)\n",
        "\n",
        "\n",
        "class Capsule(Layer):\n",
        "    \n",
        "\n",
        "    def __init__(self,\n",
        "                 num_capsule,\n",
        "                 dim_capsule,\n",
        "                 routings=3,\n",
        "                 share_weights=True,\n",
        "                 activation='squash',\n",
        "                 **kwargs):\n",
        "        super(Capsule, self).__init__(**kwargs)\n",
        "        self.num_capsule = num_capsule\n",
        "        self.dim_capsule = dim_capsule\n",
        "        self.routings = routings\n",
        "        self.share_weights = share_weights\n",
        "        if activation == 'squash':\n",
        "            self.activation = squash\n",
        "        else:\n",
        "            self.activation = activations.get(activation)\n",
        "\n",
        "    def build(self, input_shape):\n",
        "        input_dim_capsule = int(input_shape[-1])\n",
        "        if self.share_weights:\n",
        "            self.kernel = self.add_weight(name='capsule_kernel', shape=(1, input_dim_capsule, self.num_capsule * self.dim_capsule), initializer=initializers.get('glorot_uniform'))\n",
        "        else:\n",
        "            input_num_capsule = int(input_shape[-2])\n",
        "            self.kernel = self.add_weight(name='capsule_kernel', shape=(input_num_capsule, input_dim_capsule, self.num_capsule * self.dim_capsule), initializer=initializers.get('glorot_uniform'))\n",
        "\n",
        "    def call(self, inputs):\n",
        "\n",
        "        if self.share_weights:\n",
        "            hat_inputs = K.conv1d(inputs, self.kernel)\n",
        "        else:\n",
        "            hat_inputs = K.local_conv1d(inputs, self.kernel, [1], [1])\n",
        "\n",
        "        batch_size = K.shape(inputs)[0]\n",
        "        input_num_capsule = K.shape(inputs)[1]\n",
        "        hat_inputs = K.reshape(hat_inputs,\n",
        "                               (batch_size, input_num_capsule,\n",
        "                                self.num_capsule, self.dim_capsule))\n",
        "        hat_inputs = K.permute_dimensions(hat_inputs, (0, 2, 1, 3))\n",
        "\n",
        "        b = K.zeros_like(hat_inputs[:, :, :, 0])\n",
        "        for i in range(self.routings):\n",
        "            c = softmax(b, 1)\n",
        "            if K.backend() == 'theano':\n",
        "                o = K.sum(o, axis=1)\n",
        "            o = self.activation(K.batch_dot(c, hat_inputs, [2, 2]))\n",
        "            if i < self.routings - 1:\n",
        "                print(o)\n",
        "                print(hat_inputs)\n",
        "                b += K.batch_dot(o, hat_inputs, [2, 3])\n",
        "                if K.backend() == 'theano':\n",
        "                    o = K.sum(o, axis=1)\n",
        "\n",
        "        return o\n",
        "\n",
        "    def compute_output_shape(self, input_shape):\n",
        "        return (None, self.num_capsule, self.dim_capsule)\n",
        "\n",
        "    def get_config(self):\n",
        "        config = {\n",
        "            'num_capsule': self.num_capsule,\n",
        "            'dim_capsule': self.dim_capsule,\n",
        "            'routings': self.routings\n",
        "        }\n",
        "        base_config = super(Capsule, self).get_config()\n",
        "        return dict(list(base_config.items()) + list(config.items()))\n",
        "\n",
        "\n",
        "batch_size = 10\n",
        "num_classes = 3\n",
        "epochs = 20"
      ],
      "execution_count": null,
      "outputs": []
    },
    {
      "cell_type": "code",
      "metadata": {
        "colab": {
          "base_uri": "https://localhost:8080/"
        },
        "id": "TnAbnqlq4YmR",
        "outputId": "6af0d4b3-cb60-4293-e884-2f171087c6e7"
      },
      "source": [
        "model = tf.keras.models.load_model('/content/drive/MyDrive/Model/train/architecture/model_caps28.hd5', custom_objects={'Capsule':Capsule, 'margin_loss':margin_loss})\n"
      ],
      "execution_count": null,
      "outputs": [
        {
          "output_type": "stream",
          "name": "stdout",
          "text": [
            "Tensor(\"capsule_6_2/mul:0\", shape=(?, 32, 8), dtype=float32)\n",
            "Tensor(\"capsule_6_2/transpose:0\", shape=(?, 32, ?, 8), dtype=float32)\n",
            "Tensor(\"capsule_6_2/mul_1:0\", shape=(?, 32, 8), dtype=float32)\n",
            "Tensor(\"capsule_6_2/transpose:0\", shape=(?, 32, ?, 8), dtype=float32)\n",
            "Tensor(\"capsule_7_2/mul:0\", shape=(?, 32, 8), dtype=float32)\n",
            "Tensor(\"capsule_7_2/transpose:0\", shape=(?, 32, ?, 8), dtype=float32)\n",
            "Tensor(\"capsule_7_2/mul_1:0\", shape=(?, 32, 8), dtype=float32)\n",
            "Tensor(\"capsule_7_2/transpose:0\", shape=(?, 32, ?, 8), dtype=float32)\n",
            "Tensor(\"capsule_8_2/mul:0\", shape=(?, 3, 16), dtype=float32)\n",
            "Tensor(\"capsule_8_2/transpose:0\", shape=(?, 3, ?, 16), dtype=float32)\n",
            "Tensor(\"capsule_8_2/mul_1:0\", shape=(?, 3, 16), dtype=float32)\n",
            "Tensor(\"capsule_8_2/transpose:0\", shape=(?, 3, ?, 16), dtype=float32)\n"
          ]
        }
      ]
    },
    {
      "cell_type": "code",
      "metadata": {
        "id": "MlTJCJ0L8RbY"
      },
      "source": [
        "class CustomSaver(tf.keras.callbacks.Callback):\n",
        "    def on_epoch_end(self, epoch, logs={}):\n",
        "      self.model.save(\"/content/drive/MyDrive/Model/train/architecture/model_caps\"+str(epoch)+\".hd5\")\n",
        "      self.model.save_weights(\"/content/drive/MyDrive/Model/train/weights/model_weights\"+str(epoch)+\".hd5\")"
      ],
      "execution_count": null,
      "outputs": []
    },
    {
      "cell_type": "code",
      "metadata": {
        "id": "aIAisgJs-SeJ"
      },
      "source": [
        "es = tf.keras.callbacks.EarlyStopping(monitor='loss', mode='min', verbose=1, patience=5)"
      ],
      "execution_count": null,
      "outputs": []
    },
    {
      "cell_type": "code",
      "metadata": {
        "colab": {
          "base_uri": "https://localhost:8080/"
        },
        "id": "oFQxhmdD7ja1",
        "outputId": "e9876d7f-4ab5-48ad-9ce9-27382339c6e2"
      },
      "source": [
        "saver = CustomSaver()\n",
        "model.fit(x_train, y_train, \n",
        "          batch_size=batch_size,\n",
        "          epochs=29,\n",
        "          shuffle=True,\n",
        "          validation_data=(x_test,y_test),\n",
        "          callbacks=[saver, es],\n",
        "          initial_epoch=27)"
      ],
      "execution_count": null,
      "outputs": [
        {
          "output_type": "stream",
          "name": "stdout",
          "text": [
            "Train on 2100 samples, validate on 900 samples\n",
            "Epoch 28/29\n",
            "2100/2100 [==============================] - 3549s 2s/sample - loss: 0.0419 - acc: 0.9400 - val_loss: 0.1226 - val_acc: 0.8333\n",
            "Epoch 29/29\n",
            "2100/2100 [==============================] - 3588s 2s/sample - loss: 0.0398 - acc: 0.9390 - val_loss: 0.0450 - val_acc: 0.9322\n"
          ]
        },
        {
          "output_type": "execute_result",
          "data": {
            "text/plain": [
              "<tensorflow.python.keras.callbacks.History at 0x7faf491cd1d0>"
            ]
          },
          "metadata": {},
          "execution_count": 12
        }
      ]
    },
    {
      "cell_type": "code",
      "metadata": {
        "id": "pzdalcE8FFl4"
      },
      "source": [
        "model.save(\"/content/drive/MyDrive/Model/train.hd5\")\n",
        "model.save_weights(\"/content/drive/MyDrive/Model/train_weights.hd5\")"
      ],
      "execution_count": null,
      "outputs": []
    },
    {
      "cell_type": "code",
      "metadata": {
        "colab": {
          "base_uri": "https://localhost:8080/"
        },
        "id": "HGc_uXlvWnvn",
        "outputId": "a1d0230d-4a50-4a86-987d-518bd6f7f7a9"
      },
      "source": [
        "x_test.shape"
      ],
      "execution_count": null,
      "outputs": [
        {
          "output_type": "execute_result",
          "data": {
            "text/plain": [
              "(900, 299, 299, 3)"
            ]
          },
          "metadata": {},
          "execution_count": 20
        }
      ]
    },
    {
      "cell_type": "code",
      "metadata": {
        "id": "XVsVAYbNUCA9"
      },
      "source": [
        "actual = []\n",
        "predictions = []\n",
        "x = 0\n",
        "y = 0\n",
        "while x+1<900:\n",
        "  res = model.predict([x_test[x:x+1]])\n",
        "  actual.append(np.argmax(y_test[x:x+1]))\n",
        "  predictions.append(np.argmax(res))\n",
        "  y+=1\n",
        "  x+=1"
      ],
      "execution_count": null,
      "outputs": []
    },
    {
      "cell_type": "code",
      "metadata": {
        "colab": {
          "base_uri": "https://localhost:8080/"
        },
        "id": "IyXk3lDyZ4Dd",
        "outputId": "3a5e05e4-206d-4ee4-f69d-2a535e4b4432"
      },
      "source": [
        "actual = np.array(actual)\n",
        "predictions = np.array(predictions)\n",
        "print(actual)\n",
        "print(predictions)"
      ],
      "execution_count": null,
      "outputs": [
        {
          "output_type": "stream",
          "name": "stdout",
          "text": [
            "[0 1 0 2 2 0 1 1 0 0 2 1 2 2 1 1 1 2 1 2 0 1 2 0 2 1 0 0 2 1 1 1 2 0 2 2 1\n",
            " 0 1 0 2 2 2 2 1 0 0 1 2 2 1 0 1 1 1 2 2 0 2 2 0 1 1 0 2 1 0 0 2 2 2 1 2 0\n",
            " 2 2 0 0 1 0 1 0 2 2 2 2 0 0 2 2 2 1 0 1 1 1 0 2 2 2 2 0 2 0 2 2 1 2 1 1 0\n",
            " 0 1 0 1 2 1 0 2 2 2 0 1 1 2 1 1 2 1 0 1 0 1 0 2 2 0 2 2 2 2 0 2 0 2 2 0 2\n",
            " 1 0 0 1 1 2 1 2 2 2 0 2 0 1 1 2 0 0 0 0 1 1 1 0 2 0 2 2 0 0 0 0 0 0 0 1 0\n",
            " 1 2 1 1 0 1 1 1 1 1 2 2 0 0 2 1 2 0 0 1 0 0 1 1 2 2 1 0 2 1 1 0 0 2 0 2 1\n",
            " 0 1 2 2 0 1 0 1 0 1 0 0 2 1 1 1 0 0 2 1 2 0 0 0 2 1 2 0 1 1 1 0 2 2 1 0 2\n",
            " 0 0 0 2 0 0 2 2 2 1 2 0 0 1 1 2 2 1 1 0 0 1 0 2 0 1 2 1 0 0 1 1 2 2 0 1 2\n",
            " 2 1 1 2 1 2 1 2 1 2 1 0 1 2 0 2 1 2 0 2 1 1 0 0 1 2 1 1 0 1 0 0 0 1 0 2 1\n",
            " 0 1 0 0 2 2 2 2 1 1 2 0 1 1 0 2 1 2 0 1 1 2 1 2 1 0 1 0 0 0 2 2 2 2 0 1 1\n",
            " 0 0 2 1 2 0 0 0 1 1 0 2 2 0 1 2 2 1 0 1 1 1 1 1 0 2 1 1 1 2 0 1 1 0 2 0 0\n",
            " 0 1 0 2 2 1 0 2 2 0 1 2 2 0 1 2 0 1 1 2 2 0 2 2 1 1 2 2 2 0 1 0 0 2 1 2 0\n",
            " 0 1 0 0 0 2 2 2 0 1 1 2 2 2 2 2 2 0 0 2 2 0 2 0 1 0 1 1 2 0 2 2 1 1 1 1 2\n",
            " 1 1 2 0 0 2 0 0 0 1 2 1 2 0 1 2 0 1 2 2 2 1 2 2 1 0 2 0 2 0 0 1 0 2 0 1 1\n",
            " 0 1 1 0 2 1 2 2 0 1 2 2 1 1 2 2 0 0 2 1 2 0 1 2 2 2 2 0 1 2 2 2 0 2 2 0 2\n",
            " 1 0 2 0 1 2 1 0 2 2 0 1 2 2 1 0 1 1 0 0 2 0 2 0 0 1 1 2 0 2 1 2 0 1 0 1 0\n",
            " 2 0 0 0 0 0 2 1 0 0 1 1 1 1 2 2 1 0 1 0 2 1 0 1 1 0 1 0 1 1 1 1 2 2 0 1 2\n",
            " 2 0 1 2 0 1 1 1 2 1 2 0 0 0 1 2 2 1 1 2 0 2 1 0 0 2 2 2 1 0 1 0 2 2 0 0 1\n",
            " 1 2 2 1 2 1 1 1 1 1 0 0 0 2 0 0 0 1 2 0 0 2 0 0 0 2 2 2 1 0 2 2 2 0 0 1 1\n",
            " 2 2 1 1 1 1 0 0 2 1 2 0 0 1 0 2 2 1 0 1 0 0 2 2 1 1 1 2 2 1 1 2 2 0 1 0 2\n",
            " 2 1 0 1 2 0 1 1 1 0 0 2 2 0 0 0 0 2 0 0 2 2 1 0 0 0 2 1 2 1 2 0 2 0 0 1 0\n",
            " 1 0 1 1 1 0 1 1 2 1 2 0 2 1 2 1 0 2 1 2 2 0 1 1 1 1 2 1 2 2 0 2 2 1 2 0 0\n",
            " 2 1 2 0 2 1 1 0 0 2 2 0 0 1 1 0 2 0 0 0 1 2 1 2 0 1 2 2 2 1 0 2 2 2 2 2 1\n",
            " 0 1 2 1 1 1 1 2 2 0 1 2 1 1 2 2 2 0 2 1 1 2 1 0 1 1 2 1 1 2 1 1 0 0 2 1 2\n",
            " 2 0 2 1 1 2 2 0 2 1 1]\n",
            "[0 1 0 2 2 0 1 1 0 0 2 1 2 2 1 1 1 2 1 2 0 1 2 0 2 1 0 0 2 1 1 1 2 0 2 2 1\n",
            " 0 1 0 2 2 2 2 1 0 0 1 2 2 1 0 1 1 1 2 2 0 2 2 0 1 1 0 2 1 0 0 2 2 2 1 0 0\n",
            " 2 2 0 0 1 0 1 0 2 2 2 2 0 2 2 2 2 1 0 1 1 1 0 0 2 2 2 0 2 0 2 2 1 2 1 1 0\n",
            " 0 1 2 1 2 1 0 2 1 2 0 1 1 2 1 1 2 1 0 1 0 1 0 2 2 0 2 2 2 2 0 0 0 2 2 0 2\n",
            " 1 0 2 1 1 2 1 1 2 0 0 2 0 1 1 2 1 0 0 0 1 1 1 2 1 0 2 2 0 0 0 0 0 0 0 1 0\n",
            " 1 2 1 1 0 1 1 1 1 1 2 2 0 0 2 1 2 0 0 1 0 0 1 1 2 2 1 0 2 1 1 0 0 2 0 1 1\n",
            " 0 1 2 2 0 1 0 1 0 1 0 0 1 1 1 1 0 0 2 1 2 0 0 0 2 1 2 0 1 1 1 0 2 2 1 0 2\n",
            " 0 0 0 2 0 0 2 0 2 1 2 0 0 1 1 2 2 1 1 0 0 1 0 2 0 1 2 1 0 0 1 1 2 2 0 1 2\n",
            " 2 1 1 2 1 2 1 2 1 2 1 0 1 2 0 2 1 2 0 2 1 1 0 0 1 2 1 1 0 1 0 0 0 1 0 2 1\n",
            " 0 1 0 0 2 2 2 2 1 1 2 0 1 1 0 2 1 2 1 1 1 2 1 2 1 0 1 0 0 0 2 2 0 2 0 1 1\n",
            " 2 0 0 1 2 2 0 0 1 1 0 2 2 0 1 2 2 1 0 1 1 1 1 1 0 2 1 1 1 2 0 1 1 2 2 0 0\n",
            " 0 1 0 2 2 1 0 2 2 0 1 2 2 0 1 2 0 1 1 2 2 0 2 2 1 1 2 2 2 0 1 0 0 2 1 2 0\n",
            " 0 1 0 0 0 2 2 2 0 1 1 2 2 1 1 1 2 0 2 2 2 2 2 0 2 0 1 1 2 0 2 2 1 1 1 1 2\n",
            " 0 1 2 0 2 2 0 0 0 1 2 1 2 0 1 2 0 1 1 2 2 1 2 1 1 0 1 0 2 0 0 1 0 2 0 1 1\n",
            " 0 1 1 0 2 1 2 2 0 1 2 2 1 1 2 2 0 0 2 1 2 0 1 2 2 2 1 0 1 1 2 2 0 2 2 0 2\n",
            " 1 0 0 0 1 2 1 0 2 2 0 2 2 0 1 0 1 1 0 0 0 0 2 0 0 1 1 2 0 2 1 2 0 1 0 1 0\n",
            " 2 0 0 0 0 0 2 1 0 0 1 1 1 1 2 1 1 0 1 2 2 1 0 0 1 0 1 0 1 1 1 1 2 2 0 1 2\n",
            " 0 0 1 2 0 1 1 1 2 1 2 0 0 0 1 2 2 1 1 2 0 2 1 0 0 2 1 2 1 0 1 0 2 2 0 0 1\n",
            " 1 2 2 1 2 1 1 2 1 1 0 0 0 2 0 0 0 1 2 0 0 2 0 0 0 2 2 2 1 0 2 2 2 0 0 1 1\n",
            " 0 2 1 1 1 1 0 0 2 1 2 0 0 1 0 2 2 1 0 1 2 0 2 1 1 1 1 2 2 1 1 2 2 0 1 0 2\n",
            " 2 1 0 1 2 0 1 1 1 0 0 2 2 0 0 0 0 2 0 2 2 2 1 0 0 0 2 1 2 1 2 1 2 0 0 1 0\n",
            " 1 0 1 1 1 0 1 1 2 1 2 0 2 1 2 1 0 0 1 2 2 0 1 1 1 1 2 1 2 2 0 2 2 1 2 0 0\n",
            " 2 1 2 0 2 1 1 0 0 2 2 0 0 1 1 0 2 0 0 0 1 2 1 2 0 1 2 0 2 1 0 2 2 2 2 2 1\n",
            " 0 1 1 2 1 1 1 2 0 2 1 2 1 1 2 2 2 0 2 1 1 2 1 2 1 0 1 1 1 2 1 1 0 0 2 1 2\n",
            " 0 0 2 1 1 1 0 0 2 1 1]\n"
          ]
        }
      ]
    },
    {
      "cell_type": "code",
      "metadata": {
        "colab": {
          "base_uri": "https://localhost:8080/"
        },
        "id": "sn54-FEfaIPN",
        "outputId": "dd0f532f-b0bb-47f6-a391-592488d5d9f6"
      },
      "source": [
        "from sklearn.metrics import classification_report\n",
        "target_names = ['Covid19', 'Pneumonia', 'Normal']\n",
        "print(classification_report(actual, predictions, target_names=target_names))"
      ],
      "execution_count": null,
      "outputs": [
        {
          "output_type": "stream",
          "name": "stdout",
          "text": [
            "              precision    recall  f1-score   support\n",
            "\n",
            "     Covid19       0.93      0.94      0.93       285\n",
            "   Pneumonia       0.93      0.98      0.95       300\n",
            "      Normal       0.94      0.89      0.91       314\n",
            "\n",
            "    accuracy                           0.93       899\n",
            "   macro avg       0.93      0.93      0.93       899\n",
            "weighted avg       0.93      0.93      0.93       899\n",
            "\n"
          ]
        }
      ]
    },
    {
      "cell_type": "code",
      "metadata": {
        "colab": {
          "base_uri": "https://localhost:8080/"
        },
        "id": "froB_KfU05Nf",
        "outputId": "e9927c49-a8d2-44b1-a1d5-df314b44d918"
      },
      "source": [
        "clf_report = classification_report(actual, predictions, target_names=target_names, output_dict=True)\n",
        "clf_report"
      ],
      "execution_count": null,
      "outputs": [
        {
          "output_type": "execute_result",
          "data": {
            "text/plain": [
              "{'Covid19': {'f1-score': 0.9335664335664337,\n",
              "  'precision': 0.9303135888501742,\n",
              "  'recall': 0.9368421052631579,\n",
              "  'support': 285},\n",
              " 'Normal': {'f1-score': 0.9099836333878888,\n",
              "  'precision': 0.936026936026936,\n",
              "  'recall': 0.8853503184713376,\n",
              "  'support': 314},\n",
              " 'Pneumonia': {'f1-score': 0.9528455284552846,\n",
              "  'precision': 0.9301587301587302,\n",
              "  'recall': 0.9766666666666667,\n",
              "  'support': 300},\n",
              " 'accuracy': 0.932146829810901,\n",
              " 'macro avg': {'f1-score': 0.9321318651365357,\n",
              "  'precision': 0.9321664183452801,\n",
              "  'recall': 0.9329530301337208,\n",
              "  'support': 899},\n",
              " 'weighted avg': {'f1-score': 0.9317630177828877,\n",
              "  'precision': 0.9322574524831777,\n",
              "  'recall': 0.932146829810901,\n",
              "  'support': 899}}"
            ]
          },
          "metadata": {},
          "execution_count": 20
        }
      ]
    },
    {
      "cell_type": "code",
      "metadata": {
        "colab": {
          "base_uri": "https://localhost:8080/",
          "height": 282
        },
        "id": "sXAJszxL1LPB",
        "outputId": "3a71ebb6-16ac-41c1-9eea-c3fc3b11b4e5"
      },
      "source": [
        "import seaborn as sns\n",
        "import pandas as pd\n",
        "sns.heatmap(pd.DataFrame(clf_report).iloc[:-1, :].T, annot=True)"
      ],
      "execution_count": null,
      "outputs": [
        {
          "output_type": "execute_result",
          "data": {
            "text/plain": [
              "<matplotlib.axes._subplots.AxesSubplot at 0x7f7f88d92250>"
            ]
          },
          "metadata": {},
          "execution_count": 21
        },
        {
          "output_type": "display_data",
          "data": {
            "image/png": "[encoded data removed]",
            "text/plain": [
              "<Figure size 432x288 with 2 Axes>"
            ]
          },
          "metadata": {
            "needs_background": "light"
          }
        }
      ]
    },
    {
      "cell_type": "code",
      "metadata": {
        "colab": {
          "base_uri": "https://localhost:8080/",
          "height": 296
        },
        "id": "4VWe3ni13WpZ",
        "outputId": "6e714927-5f93-4a04-8412-ab35bff6b7e2"
      },
      "source": [
        "from sklearn.metrics import ConfusionMatrixDisplay\n",
        "from sklearn.metrics import confusion_matrix\n",
        "cm = confusion_matrix(actual, predictions)\n",
        "cmd = ConfusionMatrixDisplay(cm, display_labels=target_names)\n",
        "cmd.plot()"
      ],
      "execution_count": null,
      "outputs": [
        {
          "output_type": "execute_result",
          "data": {
            "text/plain": [
              "<sklearn.metrics._plot.confusion_matrix.ConfusionMatrixDisplay at 0x7f7f7fe9fa10>"
            ]
          },
          "metadata": {},
          "execution_count": 26
        },
        {
          "output_type": "display_data",
          "data": {
            "image/png": "[encoded data removed]",
            "text/plain": [
              "<Figure size 432x288 with 2 Axes>"
            ]
          },
          "metadata": {
            "needs_background": "light"
          }
        }
      ]
    }
  ]
}